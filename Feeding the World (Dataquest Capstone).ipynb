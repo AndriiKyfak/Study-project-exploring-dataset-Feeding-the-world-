{
 "cells": [
  {
   "cell_type": "markdown",
   "id": "cd49bc93",
   "metadata": {},
   "source": [
    "# Feeding the World (Dataquest Capstone Project)\n",
    "\n",
    "Submission for an unguided 'final exam' project, based on the [FOOD WEALTH Bank of the World](https://www.kaggle.com/datasets/pranav941/-world-food-wealth-bank?resource=download&select=crop1.csv) dataset, made available by Pranav941 on Kaggle, featuring data on world food production over six decades."
   ]
  },
  {
   "cell_type": "markdown",
   "id": "948c0ccf",
   "metadata": {},
   "source": [
    "# I. Disclaimers\n",
    "\n",
    "A. Project is dataset-driven. It was not initiated by postulating a theory and looking for data that could help verify it, but rather by finding the aforementioned dataset that would be interesting to explore.<br><br>\n",
    "B. This is a study project. It may and most likely will contain steps performed to tick off required project criteria, rather than to advance project goals, as well as notes for personal reference. I will do my best to clearly mark such occurences.<br><br>\n",
    "C. My domain knowledge with respect to agriculture or husbandry is non-existent.<br><br>\n",
    "D. Other projects based on the same dataset or approaching similar issues have not been reviewed prior to finalizing this task. Having access to existing solutions and opinions could conflict with the study goal, narrow the spectrum of issues that are sensible to approach, and extinguish interest in the topic."
   ]
  },
  {
   "cell_type": "markdown",
   "id": "95e47fc3",
   "metadata": {},
   "source": [
    "# II. Outline\n",
    "Given that the project is dataset-driven, primary questions/hypotheses will be specified after exploring the dataset. That said, there are several possible venues of interest:<br>\n",
    "- efficiency (calories per unit of land per year), and whether rate of yield improvements has been able to match population growth rate;\n",
    "- meat vs plant food (per unit of area and with efficiency in mind);\n",
    "- food security (ability of countries to provide for own population, number of major food exporting countries and their clustering);\n",
    "- deforestation and its connection to increase of farmable land or lack thereof.\n",
    "\n",
    "Intended goals:<br>\n",
    "A. Explore the data to check for limitations of the dataset.<br>\n",
    "B. Summarize the current state of affairs with descriptive statistics.<br>\n",
    "C. Look for trends in data.<br>\n",
    "D. Explore a hypothesis from the broad-stroke list above.<br>\n",
    "E. Suggest directions for further development of the project or dataset.<br>"
   ]
  },
  {
   "cell_type": "markdown",
   "id": "38465025",
   "metadata": {},
   "source": [
    "The following was added after familiarizing with the data in parts III and IV below.\n",
    "\n",
    "Hypothesis for the project: global agriculture is extensive, i.e. farmable areas grow at a higher pace than would be required to compensate for the difference between population growth and yield growth (if there is any).\n",
    "\n",
    "Approach to testing the hypothesis will be outlined in more detail in part VI below."
   ]
  },
  {
   "cell_type": "markdown",
   "id": "1e384baa",
   "metadata": {},
   "source": [
    "# III. Exploring data and checking for dataset limitations\n",
    "\n",
    "If anyone's reading this, this part should probably be skipped."
   ]
  },
  {
   "cell_type": "code",
   "execution_count": 1,
   "id": "1026e222",
   "metadata": {},
   "outputs": [],
   "source": [
    "import pandas as pd\n",
    "import matplotlib.pyplot as plt\n",
    "import seaborn as sns\n",
    "import numpy as np\n",
    "%matplotlib inline"
   ]
  },
  {
   "cell_type": "code",
   "execution_count": 2,
   "id": "bfbbe193",
   "metadata": {},
   "outputs": [
    {
     "name": "stdout",
     "output_type": "stream",
     "text": [
      "<class 'pandas.core.frame.DataFrame'>\n",
      "RangeIndex: 1895975 entries, 0 to 1895974\n",
      "Data columns (total 6 columns):\n",
      " #   Column   Dtype  \n",
      "---  ------   -----  \n",
      " 0   Area     object \n",
      " 1   Item     object \n",
      " 2   Element  object \n",
      " 3   Year     int64  \n",
      " 4   Unit     object \n",
      " 5   Value    float64\n",
      "dtypes: float64(1), int64(1), object(4)\n",
      "memory usage: 86.8+ MB\n"
     ]
    }
   ],
   "source": [
    "crop_data = pd.read_csv('crop1.csv')\n",
    "crop_data.info()"
   ]
  },
  {
   "cell_type": "code",
   "execution_count": 3,
   "id": "8d07172f",
   "metadata": {},
   "outputs": [
    {
     "data": {
      "text/html": [
       "<div>\n",
       "<style scoped>\n",
       "    .dataframe tbody tr th:only-of-type {\n",
       "        vertical-align: middle;\n",
       "    }\n",
       "\n",
       "    .dataframe tbody tr th {\n",
       "        vertical-align: top;\n",
       "    }\n",
       "\n",
       "    .dataframe thead th {\n",
       "        text-align: right;\n",
       "    }\n",
       "</style>\n",
       "<table border=\"1\" class=\"dataframe\">\n",
       "  <thead>\n",
       "    <tr style=\"text-align: right;\">\n",
       "      <th></th>\n",
       "      <th>Area</th>\n",
       "      <th>Item</th>\n",
       "      <th>Element</th>\n",
       "      <th>Year</th>\n",
       "      <th>Unit</th>\n",
       "      <th>Value</th>\n",
       "    </tr>\n",
       "  </thead>\n",
       "  <tbody>\n",
       "    <tr>\n",
       "      <th>319157</th>\n",
       "      <td>Côte d'Ivoire</td>\n",
       "      <td>Spices nes</td>\n",
       "      <td>Production</td>\n",
       "      <td>1971</td>\n",
       "      <td>tonnes</td>\n",
       "      <td>100.0</td>\n",
       "    </tr>\n",
       "    <tr>\n",
       "      <th>1811303</th>\n",
       "      <td>Least Developed Countries</td>\n",
       "      <td>Lentils</td>\n",
       "      <td>Production</td>\n",
       "      <td>1976</td>\n",
       "      <td>tonnes</td>\n",
       "      <td>252661.0</td>\n",
       "    </tr>\n",
       "    <tr>\n",
       "      <th>377474</th>\n",
       "      <td>Dominica</td>\n",
       "      <td>Nuts nes</td>\n",
       "      <td>Area harvested</td>\n",
       "      <td>1992</td>\n",
       "      <td>ha</td>\n",
       "      <td>NaN</td>\n",
       "    </tr>\n",
       "    <tr>\n",
       "      <th>1646306</th>\n",
       "      <td>South-eastern Asia</td>\n",
       "      <td>Wheat</td>\n",
       "      <td>Yield</td>\n",
       "      <td>2011</td>\n",
       "      <td>hg/ha</td>\n",
       "      <td>17670.0</td>\n",
       "    </tr>\n",
       "    <tr>\n",
       "      <th>305509</th>\n",
       "      <td>Costa Rica</td>\n",
       "      <td>Cassava</td>\n",
       "      <td>Area harvested</td>\n",
       "      <td>1991</td>\n",
       "      <td>ha</td>\n",
       "      <td>5700.0</td>\n",
       "    </tr>\n",
       "  </tbody>\n",
       "</table>\n",
       "</div>"
      ],
      "text/plain": [
       "                              Area        Item         Element  Year    Unit  \\\n",
       "319157               Côte d'Ivoire  Spices nes      Production  1971  tonnes   \n",
       "1811303  Least Developed Countries     Lentils      Production  1976  tonnes   \n",
       "377474                    Dominica    Nuts nes  Area harvested  1992      ha   \n",
       "1646306         South-eastern Asia       Wheat           Yield  2011   hg/ha   \n",
       "305509                  Costa Rica     Cassava  Area harvested  1991      ha   \n",
       "\n",
       "            Value  \n",
       "319157      100.0  \n",
       "1811303  252661.0  \n",
       "377474        NaN  \n",
       "1646306   17670.0  \n",
       "305509     5700.0  "
      ]
     },
     "execution_count": 3,
     "metadata": {},
     "output_type": "execute_result"
    }
   ],
   "source": [
    "crop_data.sample(5)"
   ]
  },
  {
   "cell_type": "code",
   "execution_count": 4,
   "id": "e722584e",
   "metadata": {},
   "outputs": [
    {
     "data": {
      "text/plain": [
       "array(['Area harvested', 'Yield', 'Production'], dtype=object)"
      ]
     },
     "execution_count": 4,
     "metadata": {},
     "output_type": "execute_result"
    }
   ],
   "source": [
    "crop_data['Element'].unique()"
   ]
  },
  {
   "cell_type": "code",
   "execution_count": 5,
   "id": "2c4c9f37",
   "metadata": {},
   "outputs": [
    {
     "data": {
      "text/plain": [
       "array(['ha', 'hg/ha', 'tonnes'], dtype=object)"
      ]
     },
     "execution_count": 5,
     "metadata": {},
     "output_type": "execute_result"
    }
   ],
   "source": [
    "crop_data['Unit'].unique()"
   ]
  },
  {
   "cell_type": "code",
   "execution_count": 6,
   "id": "19196b0f",
   "metadata": {},
   "outputs": [
    {
     "data": {
      "text/plain": [
       "array(['Almonds, with shell', 'Anise, badian, fennel, coriander',\n",
       "       'Apples', 'Apricots', 'Barley', 'Berries nes', 'Figs',\n",
       "       'Fruit, citrus nes', 'Fruit, fresh nes', 'Fruit, stone nes',\n",
       "       'Grapes', 'Linseed', 'Maize', 'Melons, other (inc.cantaloupes)',\n",
       "       'Millet', 'Nuts nes', 'Onions, dry', 'Oranges',\n",
       "       'Peaches and nectarines', 'Pears', 'Pistachios', 'Plums and sloes',\n",
       "       'Potatoes', 'Pulses nes', 'Rice, paddy', 'Seed cotton',\n",
       "       'Sesame seed', 'Spices nes', 'Sugar beet', 'Sugar cane',\n",
       "       'Sunflower seed', 'Vegetables, fresh nes', 'Walnuts, with shell',\n",
       "       'Watermelons', 'Wheat', 'Beans, dry', 'Beans, green',\n",
       "       'Broad beans, horse beans, dry', 'Cabbages and other brassicas',\n",
       "       'Carrots and turnips', 'Cauliflowers and broccoli', 'Cherries',\n",
       "       'Chestnut', 'Chillies and peppers, green',\n",
       "       'Cucumbers and gherkins', 'Dates', 'Eggplants (aubergines)',\n",
       "       'Garlic', 'Hops', 'Leeks, other alliaceous vegetables',\n",
       "       'Lemons and limes', 'Lettuce and chicory',\n",
       "       'Mushrooms and truffles', 'Oats', 'Onions, shallots, green',\n",
       "       'Peas, green', 'Pumpkins, squash and gourds', 'Quinces', 'Rye',\n",
       "       'Sorghum', 'Soybeans', 'Spinach', 'Strawberries',\n",
       "       'Tangerines, mandarins, clementines, satsumas',\n",
       "       'Tobacco, unmanufactured', 'Tomatoes',\n",
       "       'Vegetables, leguminous nes', 'Artichokes', 'Bananas',\n",
       "       'Chick peas', 'Chillies and peppers, dry',\n",
       "       'Fruit, tropical fresh nes', 'Grapefruit (inc. pomelos)',\n",
       "       'Groundnuts, with shell', 'Lentils', 'Peas, dry', 'Rapeseed',\n",
       "       'Triticale', 'Bastfibres, other', 'Cashew nuts, with shell',\n",
       "       'Cassava', 'Castor oil seed', 'Coffee, green',\n",
       "       'Flax fibre and tow', 'Oil palm fruit', 'Pineapples', 'Sisal',\n",
       "       'Sweet potatoes', 'Mangoes, mangosteens, guavas', 'Taro (cocoyam)',\n",
       "       'Asparagus', 'Avocados', 'Cereals nes', 'Oilseeds nes', 'Papayas',\n",
       "       'Safflower seed', 'Tea', 'Tung nuts', 'Hazelnuts, with shell',\n",
       "       'Cow peas, dry', 'Kiwi fruit', 'Maize, green', 'Mustard seed',\n",
       "       'Persimmons', 'Buckwheat', 'Hemp tow waste', 'Coconuts', 'Ginger',\n",
       "       'Jute', 'Rubber, natural', 'Vanilla', 'Roots and tubers nes',\n",
       "       'Melonseed', 'Pepper (piper spp.)', 'Ramie', 'Cinnamon (cannella)',\n",
       "       'Cloves', 'Tallowtree seed'], dtype=object)"
      ]
     },
     "execution_count": 6,
     "metadata": {},
     "output_type": "execute_result"
    }
   ],
   "source": [
    "crop_data['Item'].unique()"
   ]
  },
  {
   "cell_type": "code",
   "execution_count": 7,
   "id": "0aec3910",
   "metadata": {},
   "outputs": [
    {
     "name": "stdout",
     "output_type": "stream",
     "text": [
      "[1961, 1962, 1963, 1964, 1965, 1966, 1967, 1968, 1969, 1970, 1971, 1972, 1973, 1974, 1975, 1976, 1977, 1978, 1979, 1980, 1981, 1982, 1983, 1984, 1985, 1986, 1987, 1988, 1989, 1990, 1991, 1992, 1993, 1994, 1995, 1996, 1997, 1998, 1999, 2000, 2001, 2002, 2003, 2004, 2005, 2006, 2007, 2008, 2009, 2010, 2011, 2012, 2013, 2014, 2015, 2016, 2017, 2018, 2019, 2020]\n"
     ]
    }
   ],
   "source": [
    "print(sorted(crop_data['Year'].unique()))"
   ]
  },
  {
   "cell_type": "code",
   "execution_count": 8,
   "id": "58a4b30c",
   "metadata": {},
   "outputs": [
    {
     "data": {
      "text/plain": [
       "(10135, 6)"
      ]
     },
     "execution_count": 8,
     "metadata": {},
     "output_type": "execute_result"
    }
   ],
   "source": [
    "zero_crops = crop_data[crop_data['Value'] == 0].copy()\n",
    "zero_crops.shape"
   ]
  },
  {
   "cell_type": "code",
   "execution_count": 9,
   "id": "68adbd06",
   "metadata": {},
   "outputs": [
    {
     "data": {
      "text/html": [
       "<div>\n",
       "<style scoped>\n",
       "    .dataframe tbody tr th:only-of-type {\n",
       "        vertical-align: middle;\n",
       "    }\n",
       "\n",
       "    .dataframe tbody tr th {\n",
       "        vertical-align: top;\n",
       "    }\n",
       "\n",
       "    .dataframe thead th {\n",
       "        text-align: right;\n",
       "    }\n",
       "</style>\n",
       "<table border=\"1\" class=\"dataframe\">\n",
       "  <thead>\n",
       "    <tr style=\"text-align: right;\">\n",
       "      <th></th>\n",
       "      <th>Area</th>\n",
       "      <th>Item</th>\n",
       "      <th>Element</th>\n",
       "      <th>Year</th>\n",
       "      <th>Unit</th>\n",
       "      <th>Value</th>\n",
       "    </tr>\n",
       "  </thead>\n",
       "  <tbody>\n",
       "    <tr>\n",
       "      <th>1099494</th>\n",
       "      <td>Slovakia</td>\n",
       "      <td>Grapefruit (inc. pomelos)</td>\n",
       "      <td>Area harvested</td>\n",
       "      <td>2018</td>\n",
       "      <td>ha</td>\n",
       "      <td>0.0</td>\n",
       "    </tr>\n",
       "    <tr>\n",
       "      <th>562039</th>\n",
       "      <td>Hungary</td>\n",
       "      <td>Flax fibre and tow</td>\n",
       "      <td>Area harvested</td>\n",
       "      <td>1994</td>\n",
       "      <td>ha</td>\n",
       "      <td>0.0</td>\n",
       "    </tr>\n",
       "    <tr>\n",
       "      <th>422695</th>\n",
       "      <td>Estonia</td>\n",
       "      <td>Fruit, citrus nes</td>\n",
       "      <td>Production</td>\n",
       "      <td>2020</td>\n",
       "      <td>tonnes</td>\n",
       "      <td>0.0</td>\n",
       "    </tr>\n",
       "    <tr>\n",
       "      <th>1631118</th>\n",
       "      <td>South-eastern Asia</td>\n",
       "      <td>Asparagus</td>\n",
       "      <td>Area harvested</td>\n",
       "      <td>1984</td>\n",
       "      <td>ha</td>\n",
       "      <td>0.0</td>\n",
       "    </tr>\n",
       "    <tr>\n",
       "      <th>201924</th>\n",
       "      <td>Canada</td>\n",
       "      <td>Hops</td>\n",
       "      <td>Production</td>\n",
       "      <td>2006</td>\n",
       "      <td>tonnes</td>\n",
       "      <td>0.0</td>\n",
       "    </tr>\n",
       "    <tr>\n",
       "      <th>1233492</th>\n",
       "      <td>Tunisia</td>\n",
       "      <td>Sugar beet</td>\n",
       "      <td>Area harvested</td>\n",
       "      <td>2009</td>\n",
       "      <td>ha</td>\n",
       "      <td>0.0</td>\n",
       "    </tr>\n",
       "    <tr>\n",
       "      <th>562128</th>\n",
       "      <td>Hungary</td>\n",
       "      <td>Flax fibre and tow</td>\n",
       "      <td>Production</td>\n",
       "      <td>1993</td>\n",
       "      <td>tonnes</td>\n",
       "      <td>0.0</td>\n",
       "    </tr>\n",
       "    <tr>\n",
       "      <th>1699503</th>\n",
       "      <td>Northern Europe</td>\n",
       "      <td>Eggplants (aubergines)</td>\n",
       "      <td>Area harvested</td>\n",
       "      <td>2008</td>\n",
       "      <td>ha</td>\n",
       "      <td>0.0</td>\n",
       "    </tr>\n",
       "    <tr>\n",
       "      <th>855421</th>\n",
       "      <td>Nauru</td>\n",
       "      <td>Papayas</td>\n",
       "      <td>Area harvested</td>\n",
       "      <td>2020</td>\n",
       "      <td>ha</td>\n",
       "      <td>0.0</td>\n",
       "    </tr>\n",
       "    <tr>\n",
       "      <th>744418</th>\n",
       "      <td>Lithuania</td>\n",
       "      <td>Vegetables, leguminous nes</td>\n",
       "      <td>Area harvested</td>\n",
       "      <td>2015</td>\n",
       "      <td>ha</td>\n",
       "      <td>0.0</td>\n",
       "    </tr>\n",
       "  </tbody>\n",
       "</table>\n",
       "</div>"
      ],
      "text/plain": [
       "                       Area                        Item         Element  Year  \\\n",
       "1099494            Slovakia   Grapefruit (inc. pomelos)  Area harvested  2018   \n",
       "562039              Hungary          Flax fibre and tow  Area harvested  1994   \n",
       "422695              Estonia           Fruit, citrus nes      Production  2020   \n",
       "1631118  South-eastern Asia                   Asparagus  Area harvested  1984   \n",
       "201924               Canada                        Hops      Production  2006   \n",
       "1233492             Tunisia                  Sugar beet  Area harvested  2009   \n",
       "562128              Hungary          Flax fibre and tow      Production  1993   \n",
       "1699503     Northern Europe      Eggplants (aubergines)  Area harvested  2008   \n",
       "855421                Nauru                     Papayas  Area harvested  2020   \n",
       "744418            Lithuania  Vegetables, leguminous nes  Area harvested  2015   \n",
       "\n",
       "           Unit  Value  \n",
       "1099494      ha    0.0  \n",
       "562039       ha    0.0  \n",
       "422695   tonnes    0.0  \n",
       "1631118      ha    0.0  \n",
       "201924   tonnes    0.0  \n",
       "1233492      ha    0.0  \n",
       "562128   tonnes    0.0  \n",
       "1699503      ha    0.0  \n",
       "855421       ha    0.0  \n",
       "744418       ha    0.0  "
      ]
     },
     "execution_count": 9,
     "metadata": {},
     "output_type": "execute_result"
    }
   ],
   "source": [
    "zero_crops.sample(10)"
   ]
  },
  {
   "cell_type": "code",
   "execution_count": 10,
   "id": "ab2c64be",
   "metadata": {},
   "outputs": [
    {
     "data": {
      "text/plain": [
       "(129500, 6)"
      ]
     },
     "execution_count": 10,
     "metadata": {},
     "output_type": "execute_result"
    }
   ],
   "source": [
    "null_crops = crop_data[crop_data['Value'].isnull()].copy()\n",
    "null_crops.shape"
   ]
  },
  {
   "cell_type": "code",
   "execution_count": 11,
   "id": "76767b4a",
   "metadata": {},
   "outputs": [
    {
     "data": {
      "text/plain": [
       "array(['Berries nes', 'Broad beans, horse beans, dry', 'Castor oil seed',\n",
       "       'Chestnut', 'Chick peas', 'Fruit, stone nes', 'Lentils',\n",
       "       'Lettuce and chicory', 'Maize, green',\n",
       "       'Melons, other (inc.cantaloupes)', 'Mushrooms and truffles',\n",
       "       'Mustard seed', 'Oilseeds nes', 'Onions, shallots, green',\n",
       "       'Pulses nes', 'Quinces', 'Safflower seed', 'Spinach', 'Sugar cane',\n",
       "       'Vegetables, leguminous nes'], dtype=object)"
      ]
     },
     "execution_count": 11,
     "metadata": {},
     "output_type": "execute_result"
    }
   ],
   "source": [
    "null_crops[null_crops['Area'] == 'Ukraine']['Item'].unique()"
   ]
  },
  {
   "cell_type": "markdown",
   "id": "f965cb75",
   "metadata": {},
   "source": [
    "First file in the dataset, 'crop1', has data on multiple farmable plants per country per year (from 1961 till 2020) with respect to production, yield and farmable area figures. Around 6% of the dataset is filled with null values.<br>\n",
    "As a note, hereinafter 'farmable area', 'harvestable area', 'area under crops' and 'seeded area' can be used interchangeably.<br>\n",
    "\n",
    "Making the following assumptions below:\n",
    "- all primary crops are listed;\n",
    "- zero and null values suggest that while production may be present, and even considerable, it is not significant comparable to production of primary crops, and everything is consumed locally.<br><br>\n",
    "\n",
    "Running the following checks:\n",
    "- whether most of the countries are covered;\n",
    "- whether some rows with missing values only lack information on one of the elements (i.e., data on area and production, but not yield), which would indicate incomplete data/mistake rather than negligible values.<br><br>\n",
    "\n",
    "[Countries of the World](https://www.kaggle.com/datasets/fernandol/countries-of-the-world?resource=download) dataset from Kaggle will be used to extract the list of countries as a basis for comparison."
   ]
  },
  {
   "cell_type": "code",
   "execution_count": 12,
   "id": "730da1ae",
   "metadata": {},
   "outputs": [],
   "source": [
    "countries_cia_data = pd.read_csv('countries of the world.csv')\n",
    "countries_cia_data['Country'] = countries_cia_data['Country'].str.strip() #country names had spaces at the end"
   ]
  },
  {
   "cell_type": "code",
   "execution_count": 13,
   "id": "df82679a",
   "metadata": {},
   "outputs": [],
   "source": [
    "missing_countries = []\n",
    "other_countries = []\n",
    "\n",
    "tempx = countries_cia_data['Country'].unique()\n",
    "tempy = crop_data['Area'].unique()\n",
    "\n",
    "for country in tempx:\n",
    "    if country not in tempy:\n",
    "        missing_countries.append(country)\n",
    "        \n",
    "for country in tempy:\n",
    "    if country not in tempx:\n",
    "        other_countries.append(country)"
   ]
  },
  {
   "cell_type": "markdown",
   "id": "2030e59f",
   "metadata": {},
   "source": [
    "Note to self: do NOT run methods within loops, predefine them if possible."
   ]
  },
  {
   "cell_type": "code",
   "execution_count": 14,
   "id": "a2a81912",
   "metadata": {},
   "outputs": [
    {
     "name": "stdout",
     "output_type": "stream",
     "text": [
      "Missing countries: \n",
      " ['American Samoa', 'Andorra', 'Anguilla', 'Antigua & Barbuda', 'Aruba', 'Bahamas, The', 'Bermuda', 'Bolivia', 'Bosnia & Herzegovina', 'British Virgin Is.', 'Brunei', 'Burma', 'Cape Verde', 'Cayman Islands', 'Central African Rep.', 'Congo, Dem. Rep.', 'Congo, Repub. of the', \"Cote d'Ivoire\", 'Czech Republic', 'East Timor', 'French Guiana', 'Gambia, The', 'Gaza Strip', 'Gibraltar', 'Greenland', 'Guam', 'Guernsey', 'Hong Kong', 'Iran', 'Isle of Man', 'Jersey', 'Korea, North', 'Korea, South', 'Laos', 'Liechtenstein', 'Macau', 'Macedonia', 'Mayotte', 'Micronesia, Fed. St.', 'Moldova', 'Monaco', 'Montserrat', 'Netherlands Antilles', 'N. Mariana Islands', 'Palau', 'Reunion', 'Russia', 'Saint Helena', 'Saint Kitts & Nevis', 'St Pierre & Miquelon', 'San Marino', 'Sao Tome & Principe', 'Swaziland', 'Syria', 'Taiwan', 'Tanzania', 'Trinidad & Tobago', 'Turks & Caicos Is', 'United Kingdom', 'United States', 'Venezuela', 'Vietnam', 'Virgin Islands', 'Wallis and Futuna', 'West Bank', 'Western Sahara'] \n",
      " \n",
      " Countries not found in CIA factbook: \n",
      " ['Antigua and Barbuda', 'Bahamas', 'Belgium-Luxembourg', 'Bolivia (Plurinational State of)', 'Bosnia and Herzegovina', 'Brunei Darussalam', 'Cabo Verde', 'Central African Republic', 'China, Hong Kong SAR', 'China, Macao SAR', 'China, mainland', 'China, Taiwan Province of', 'Congo', \"Côte d'Ivoire\", 'Czechia', 'Czechoslovakia', \"Democratic People's Republic of Korea\", 'Democratic Republic of the Congo', 'Eswatini', 'Ethiopia PDR', 'French Guyana', 'Gambia', 'Iran (Islamic Republic of)', \"Lao People's Democratic Republic\", 'Micronesia (Federated States of)', 'Montenegro', 'Myanmar', 'Niue', 'North Macedonia', 'Palestine', 'Republic of Korea', 'Republic of Moldova', 'Réunion', 'Russian Federation', 'Saint Kitts and Nevis', 'Sao Tome and Principe', 'Serbia and Montenegro', 'South Sudan', 'Sudan (former)', 'Syrian Arab Republic', 'Timor-Leste', 'Tokelau', 'Trinidad and Tobago', 'United Kingdom of Great Britain and Northern Ireland', 'United Republic of Tanzania', 'United States of America', 'USSR', 'Venezuela (Bolivarian Republic of)', 'Viet Nam', 'Yugoslav SFR', 'World', 'Africa', 'Eastern Africa', 'Middle Africa', 'Northern Africa', 'Southern Africa', 'Western Africa', 'Americas', 'Northern America', 'Central America', 'Caribbean', 'South America', 'Asia', 'Central Asia', 'Eastern Asia', 'Southern Asia', 'South-eastern Asia', 'Western Asia', 'Europe', 'Eastern Europe', 'Northern Europe', 'Southern Europe', 'Western Europe', 'Oceania', 'Australia and New Zealand', 'Melanesia', 'Micronesia', 'Polynesia', 'European Union (27)', 'Least Developed Countries', 'Land Locked Developing Countries', 'Small Island Developing States', 'Low Income Food Deficit Countries', 'Net Food Importing Developing Countries']\n"
     ]
    }
   ],
   "source": [
    "print('Missing countries:',\n",
    "      '\\n', missing_countries,\n",
    "      '\\n', '\\n',\n",
    "      'Countries not found in CIA factbook:',\n",
    "      '\\n', other_countries)"
   ]
  },
  {
   "cell_type": "markdown",
   "id": "b399eacc",
   "metadata": {},
   "source": [
    "Takeaways:\n",
    "- most territories should be present in the dataset, and all major ones definitely are, if by different names;\n",
    "- country list contains region groupings, which should be filtered out or used instead of individual countries to prevent duplicate values;\n",
    "- countries have historic names for the given year, which requires caution, especially if more than ~30 years are used in analysis."
   ]
  },
  {
   "cell_type": "code",
   "execution_count": 15,
   "id": "aa0c271f",
   "metadata": {},
   "outputs": [
    {
     "data": {
      "text/html": [
       "<div>\n",
       "<style scoped>\n",
       "    .dataframe tbody tr th:only-of-type {\n",
       "        vertical-align: middle;\n",
       "    }\n",
       "\n",
       "    .dataframe tbody tr th {\n",
       "        vertical-align: top;\n",
       "    }\n",
       "\n",
       "    .dataframe thead th {\n",
       "        text-align: right;\n",
       "    }\n",
       "</style>\n",
       "<table border=\"1\" class=\"dataframe\">\n",
       "  <thead>\n",
       "    <tr style=\"text-align: right;\">\n",
       "      <th></th>\n",
       "      <th></th>\n",
       "      <th></th>\n",
       "      <th>Element</th>\n",
       "      <th>Unit</th>\n",
       "      <th>Value</th>\n",
       "    </tr>\n",
       "    <tr>\n",
       "      <th>Area</th>\n",
       "      <th>Year</th>\n",
       "      <th>Item</th>\n",
       "      <th></th>\n",
       "      <th></th>\n",
       "      <th></th>\n",
       "    </tr>\n",
       "  </thead>\n",
       "  <tbody>\n",
       "    <tr>\n",
       "      <th rowspan=\"5\" valign=\"top\">Afghanistan</th>\n",
       "      <th>1961</th>\n",
       "      <th>Anise, badian, fennel, coriander</th>\n",
       "      <td>2</td>\n",
       "      <td>2</td>\n",
       "      <td>0</td>\n",
       "    </tr>\n",
       "    <tr>\n",
       "      <th>1962</th>\n",
       "      <th>Anise, badian, fennel, coriander</th>\n",
       "      <td>2</td>\n",
       "      <td>2</td>\n",
       "      <td>0</td>\n",
       "    </tr>\n",
       "    <tr>\n",
       "      <th>1963</th>\n",
       "      <th>Anise, badian, fennel, coriander</th>\n",
       "      <td>2</td>\n",
       "      <td>2</td>\n",
       "      <td>0</td>\n",
       "    </tr>\n",
       "    <tr>\n",
       "      <th>1964</th>\n",
       "      <th>Anise, badian, fennel, coriander</th>\n",
       "      <td>2</td>\n",
       "      <td>2</td>\n",
       "      <td>0</td>\n",
       "    </tr>\n",
       "    <tr>\n",
       "      <th>1965</th>\n",
       "      <th>Anise, badian, fennel, coriander</th>\n",
       "      <td>2</td>\n",
       "      <td>2</td>\n",
       "      <td>0</td>\n",
       "    </tr>\n",
       "    <tr>\n",
       "      <th>...</th>\n",
       "      <th>...</th>\n",
       "      <th>...</th>\n",
       "      <td>...</td>\n",
       "      <td>...</td>\n",
       "      <td>...</td>\n",
       "    </tr>\n",
       "    <tr>\n",
       "      <th rowspan=\"5\" valign=\"top\">Zimbabwe</th>\n",
       "      <th>2016</th>\n",
       "      <th>Cow peas, dry</th>\n",
       "      <td>2</td>\n",
       "      <td>2</td>\n",
       "      <td>0</td>\n",
       "    </tr>\n",
       "    <tr>\n",
       "      <th>2017</th>\n",
       "      <th>Cow peas, dry</th>\n",
       "      <td>2</td>\n",
       "      <td>2</td>\n",
       "      <td>0</td>\n",
       "    </tr>\n",
       "    <tr>\n",
       "      <th>2018</th>\n",
       "      <th>Cow peas, dry</th>\n",
       "      <td>2</td>\n",
       "      <td>2</td>\n",
       "      <td>0</td>\n",
       "    </tr>\n",
       "    <tr>\n",
       "      <th>2019</th>\n",
       "      <th>Cow peas, dry</th>\n",
       "      <td>2</td>\n",
       "      <td>2</td>\n",
       "      <td>0</td>\n",
       "    </tr>\n",
       "    <tr>\n",
       "      <th>2020</th>\n",
       "      <th>Cow peas, dry</th>\n",
       "      <td>2</td>\n",
       "      <td>2</td>\n",
       "      <td>0</td>\n",
       "    </tr>\n",
       "  </tbody>\n",
       "</table>\n",
       "<p>75977 rows × 3 columns</p>\n",
       "</div>"
      ],
      "text/plain": [
       "                                                   Element  Unit  Value\n",
       "Area        Year Item                                                  \n",
       "Afghanistan 1961 Anise, badian, fennel, coriander        2     2      0\n",
       "            1962 Anise, badian, fennel, coriander        2     2      0\n",
       "            1963 Anise, badian, fennel, coriander        2     2      0\n",
       "            1964 Anise, badian, fennel, coriander        2     2      0\n",
       "            1965 Anise, badian, fennel, coriander        2     2      0\n",
       "...                                                    ...   ...    ...\n",
       "Zimbabwe    2016 Cow peas, dry                           2     2      0\n",
       "            2017 Cow peas, dry                           2     2      0\n",
       "            2018 Cow peas, dry                           2     2      0\n",
       "            2019 Cow peas, dry                           2     2      0\n",
       "            2020 Cow peas, dry                           2     2      0\n",
       "\n",
       "[75977 rows x 3 columns]"
      ]
     },
     "execution_count": 15,
     "metadata": {},
     "output_type": "execute_result"
    }
   ],
   "source": [
    "#grouping by crop in a given country and year, to see if rows with null values contain all 3 \"elements\" - production,\n",
    "#area, and yield\n",
    "temp_nullgroup = null_crops.groupby(['Area','Year','Item'])\n",
    "temp_nullgroup.count()[temp_nullgroup.count() != 3]"
   ]
  },
  {
   "cell_type": "code",
   "execution_count": 16,
   "id": "4f0b6695",
   "metadata": {},
   "outputs": [
    {
     "data": {
      "text/html": [
       "<div>\n",
       "<style scoped>\n",
       "    .dataframe tbody tr th:only-of-type {\n",
       "        vertical-align: middle;\n",
       "    }\n",
       "\n",
       "    .dataframe tbody tr th {\n",
       "        vertical-align: top;\n",
       "    }\n",
       "\n",
       "    .dataframe thead th {\n",
       "        text-align: right;\n",
       "    }\n",
       "</style>\n",
       "<table border=\"1\" class=\"dataframe\">\n",
       "  <thead>\n",
       "    <tr style=\"text-align: right;\">\n",
       "      <th></th>\n",
       "      <th>Area</th>\n",
       "      <th>Item</th>\n",
       "      <th>Element</th>\n",
       "      <th>Year</th>\n",
       "      <th>Unit</th>\n",
       "      <th>Value</th>\n",
       "    </tr>\n",
       "  </thead>\n",
       "  <tbody>\n",
       "    <tr>\n",
       "      <th>139</th>\n",
       "      <td>Afghanistan</td>\n",
       "      <td>Anise, badian, fennel, coriander</td>\n",
       "      <td>Area harvested</td>\n",
       "      <td>1963</td>\n",
       "      <td>ha</td>\n",
       "      <td>NaN</td>\n",
       "    </tr>\n",
       "    <tr>\n",
       "      <th>234</th>\n",
       "      <td>Afghanistan</td>\n",
       "      <td>Anise, badian, fennel, coriander</td>\n",
       "      <td>Production</td>\n",
       "      <td>1963</td>\n",
       "      <td>tonnes</td>\n",
       "      <td>NaN</td>\n",
       "    </tr>\n",
       "  </tbody>\n",
       "</table>\n",
       "</div>"
      ],
      "text/plain": [
       "            Area                              Item         Element  Year  \\\n",
       "139  Afghanistan  Anise, badian, fennel, coriander  Area harvested  1963   \n",
       "234  Afghanistan  Anise, badian, fennel, coriander      Production  1963   \n",
       "\n",
       "       Unit  Value  \n",
       "139      ha    NaN  \n",
       "234  tonnes    NaN  "
      ]
     },
     "execution_count": 16,
     "metadata": {},
     "output_type": "execute_result"
    }
   ],
   "source": [
    "crop_data[(crop_data['Area'] == 'Afghanistan')\n",
    "          & (crop_data['Item'] == 'Anise, badian, fennel, coriander')\n",
    "          & (crop_data['Year'] == 1963)]"
   ]
  },
  {
   "cell_type": "code",
   "execution_count": 17,
   "id": "bab90512",
   "metadata": {},
   "outputs": [
    {
     "name": "stdout",
     "output_type": "stream",
     "text": [
      "(7294, 6) \n",
      " \n",
      " ['Brazil' 'China, mainland' 'France' 'Germany' 'India' 'Japan' 'Mexico'\n",
      " 'Russian Federation' 'Turkey' 'United States of America'] \n",
      " \n",
      " ['Almonds, with shell' 'Cashew nuts, with shell' 'Fruit, stone nes'\n",
      " 'Fruit, tropical fresh nes' 'Grapefruit (inc. pomelos)' 'Nuts nes'\n",
      " 'Peas, dry' 'Rubber, natural' 'Strawberries' 'Triticale' 'Tung nuts'\n",
      " 'Walnuts, with shell' 'Anise, badian, fennel, coriander' 'Apricots'\n",
      " 'Artichokes' 'Avocados' 'Cereals nes' 'Cherries' 'Chestnut' 'Chick peas'\n",
      " 'Cinnamon (cannella)' 'Cloves' 'Coconuts' 'Cow peas, dry' 'Figs' 'Ginger'\n",
      " 'Hazelnuts, with shell' 'Hops' 'Kiwi fruit'\n",
      " 'Leeks, other alliaceous vegetables' 'Maize, green' 'Mustard seed'\n",
      " 'Oil palm fruit' 'Papayas' 'Pistachios' 'Pulses nes' 'Quinces'\n",
      " 'Safflower seed' 'Spices nes' 'Spinach' 'Tallowtree seed' 'Vanilla'\n",
      " 'Vegetables, leguminous nes' 'Beans, dry' 'Berries nes' 'Buckwheat'\n",
      " 'Fruit, citrus nes' 'Fruit, fresh nes' 'Lentils' 'Millet' 'Oilseeds nes'\n",
      " 'Onions, shallots, green' 'Roots and tubers nes' 'Apples'\n",
      " 'Chillies and peppers, green' 'Flax fibre and tow' 'Hemp tow waste'\n",
      " 'Mushrooms and truffles' 'Peaches and nectarines' 'Pears'\n",
      " 'Plums and sloes' 'Pumpkins, squash and gourds' 'Tobacco, unmanufactured'\n",
      " 'Beans, green' 'Chillies and peppers, dry' 'Garlic' 'Jute'\n",
      " 'Lemons and limes' 'Linseed' 'Mangoes, mangosteens, guavas' 'Ramie' 'Rye'\n",
      " 'Sorghum' 'Melonseed' 'Persimmons' 'Oranges' 'Sugar cane'\n",
      " 'Sweet potatoes' 'Castor oil seed' 'Sesame seed']\n"
     ]
    }
   ],
   "source": [
    "primaries = ['China, mainland', 'India', 'Russian Federation', 'United States of America',\n",
    "             'France', 'Mexico', 'Japan', 'Germany', 'Turkey', 'Brazil']\n",
    "null_primaries = crop_data[crop_data['Area'].isin(primaries)].copy()\n",
    "null_primaries = null_primaries[null_primaries['Value'].isnull()]\n",
    "print(null_primaries.shape, '\\n', '\\n', null_primaries['Area'].unique(),\n",
    "      '\\n', '\\n', null_primaries['Item'].unique())"
   ]
  },
  {
   "cell_type": "markdown",
   "id": "9e8edf7d",
   "metadata": {},
   "source": [
    "Takeaways:\n",
    "- roughly 4% of the data have null values only for two out of three elements (production, area and yield);\n",
    "- for some of those, the row with the third element is missing completely;\n",
    "- before venturing deeper, top 10 agricultural producing countries were explored for null values, and while all of them have rows with null values, those (i) do not cover primary crops and (ii) null values are less prevalent at around 2,5%.\n",
    "\n",
    "At this point the decision was taken to leave all rows with null values, changing them to zeroes. Arguements in favor:\n",
    "- restoring values is out of the question given the size and variability of the dataset;\n",
    "- dropped row provides no information, while 0 value is still information (insignificant harvest and/or poor statistics and/or no export);\n",
    "- specific figures are not required for project goals, just accurate enough gross data to determine trends with high enough probability;\n",
    "- summarized country data can be verified vs regional/world data if necessary;\n",
    "- eyeballing primary countries does not outright contradict the assumption that null values mark items with insignificant production and are not erroneous."
   ]
  },
  {
   "cell_type": "code",
   "execution_count": 18,
   "id": "15076515",
   "metadata": {},
   "outputs": [],
   "source": [
    "crop_data['Value'].fillna(value = 0, inplace = True)"
   ]
  },
  {
   "cell_type": "markdown",
   "id": "15843a8d",
   "metadata": {},
   "source": [
    "For the purpose of the study project, below the 'crop1' original dataframe will be split into two tables, one with per country information, and the other with regional entries ('Central Asia', 'World', etc).\n",
    "\n",
    "Afterwards, the other two files from the dataset, 'live1' and 'pop1', will undergo the same inspection and split."
   ]
  },
  {
   "cell_type": "code",
   "execution_count": 19,
   "id": "bf4f94b4",
   "metadata": {},
   "outputs": [
    {
     "name": "stdout",
     "output_type": "stream",
     "text": [
      "(34,) (211,) (245,)\n"
     ]
    }
   ],
   "source": [
    "regions = ['World', 'Africa', 'Eastern Africa', 'Middle Africa', 'Northern Africa',\n",
    "                           'Southern Africa', 'Western Africa', 'Americas', 'Northern America', 'Central America',\n",
    "                           'Caribbean', 'South America', 'Asia', 'Central Asia', 'Eastern Asia', 'Southern Asia',\n",
    "                           'South-eastern Asia', 'Western Asia', 'Europe', 'Eastern Europe', 'Northern Europe',\n",
    "                           'Southern Europe', 'Western Europe', 'Oceania', 'Australia and New Zealand', 'Melanesia',\n",
    "                           'Micronesia', 'Polynesia', 'European Union (27)', 'Least Developed Countries',\n",
    "                           'Land Locked Developing Countries', 'Small Island Developing States',\n",
    "                           'Low Income Food Deficit Countries', 'Net Food Importing Developing Countries']\n",
    "crop_data_regions = crop_data[crop_data['Area'].isin(regions)].copy()\n",
    "crop_data_countries = crop_data[crop_data['Area'].isin(regions)==False].copy()\n",
    "print(crop_data_regions['Area'].unique().shape,\n",
    "      crop_data_countries['Area'].unique().shape,\n",
    "      crop_data['Area'].unique().shape)"
   ]
  },
  {
   "cell_type": "code",
   "execution_count": 20,
   "id": "416c6056",
   "metadata": {},
   "outputs": [
    {
     "name": "stdout",
     "output_type": "stream",
     "text": [
      "<class 'pandas.core.frame.DataFrame'>\n",
      "RangeIndex: 122467 entries, 0 to 122466\n",
      "Data columns (total 6 columns):\n",
      " #   Column   Non-Null Count   Dtype  \n",
      "---  ------   --------------   -----  \n",
      " 0   Area     122467 non-null  object \n",
      " 1   Item     122467 non-null  object \n",
      " 2   Element  122467 non-null  object \n",
      " 3   Year     122467 non-null  int64  \n",
      " 4   Unit     122467 non-null  object \n",
      " 5   Value    120203 non-null  float64\n",
      "dtypes: float64(1), int64(1), object(4)\n",
      "memory usage: 5.6+ MB\n"
     ]
    }
   ],
   "source": [
    "livestock_data = pd.read_csv('live1.csv')\n",
    "livestock_data.info()"
   ]
  },
  {
   "cell_type": "code",
   "execution_count": 21,
   "id": "f1ab1f8b",
   "metadata": {},
   "outputs": [
    {
     "data": {
      "text/html": [
       "<div>\n",
       "<style scoped>\n",
       "    .dataframe tbody tr th:only-of-type {\n",
       "        vertical-align: middle;\n",
       "    }\n",
       "\n",
       "    .dataframe tbody tr th {\n",
       "        vertical-align: top;\n",
       "    }\n",
       "\n",
       "    .dataframe thead th {\n",
       "        text-align: right;\n",
       "    }\n",
       "</style>\n",
       "<table border=\"1\" class=\"dataframe\">\n",
       "  <thead>\n",
       "    <tr style=\"text-align: right;\">\n",
       "      <th></th>\n",
       "      <th>Area</th>\n",
       "      <th>Item</th>\n",
       "      <th>Element</th>\n",
       "      <th>Year</th>\n",
       "      <th>Unit</th>\n",
       "      <th>Value</th>\n",
       "    </tr>\n",
       "  </thead>\n",
       "  <tbody>\n",
       "    <tr>\n",
       "      <th>15384</th>\n",
       "      <td>Canada</td>\n",
       "      <td>Mules</td>\n",
       "      <td>Stocks</td>\n",
       "      <td>1972</td>\n",
       "      <td>Head</td>\n",
       "      <td>4.000000e+03</td>\n",
       "    </tr>\n",
       "    <tr>\n",
       "      <th>68395</th>\n",
       "      <td>Peru</td>\n",
       "      <td>Cattle</td>\n",
       "      <td>Stocks</td>\n",
       "      <td>2006</td>\n",
       "      <td>Head</td>\n",
       "      <td>5.241102e+06</td>\n",
       "    </tr>\n",
       "    <tr>\n",
       "      <th>121245</th>\n",
       "      <td>Low Income Food Deficit Countries</td>\n",
       "      <td>Geese and guinea fowls</td>\n",
       "      <td>Stocks</td>\n",
       "      <td>1999</td>\n",
       "      <td>1000 Head</td>\n",
       "      <td>9.530000e+03</td>\n",
       "    </tr>\n",
       "    <tr>\n",
       "      <th>38993</th>\n",
       "      <td>Guinea-Bissau</td>\n",
       "      <td>Sheep</td>\n",
       "      <td>Stocks</td>\n",
       "      <td>1962</td>\n",
       "      <td>Head</td>\n",
       "      <td>1.150000e+05</td>\n",
       "    </tr>\n",
       "    <tr>\n",
       "      <th>97879</th>\n",
       "      <td>World</td>\n",
       "      <td>Goats</td>\n",
       "      <td>Stocks</td>\n",
       "      <td>2020</td>\n",
       "      <td>Head</td>\n",
       "      <td>1.128106e+09</td>\n",
       "    </tr>\n",
       "  </tbody>\n",
       "</table>\n",
       "</div>"
      ],
      "text/plain": [
       "                                     Area                    Item Element  \\\n",
       "15384                              Canada                   Mules  Stocks   \n",
       "68395                                Peru                  Cattle  Stocks   \n",
       "121245  Low Income Food Deficit Countries  Geese and guinea fowls  Stocks   \n",
       "38993                       Guinea-Bissau                   Sheep  Stocks   \n",
       "97879                               World                   Goats  Stocks   \n",
       "\n",
       "        Year       Unit         Value  \n",
       "15384   1972       Head  4.000000e+03  \n",
       "68395   2006       Head  5.241102e+06  \n",
       "121245  1999  1000 Head  9.530000e+03  \n",
       "38993   1962       Head  1.150000e+05  \n",
       "97879   2020       Head  1.128106e+09  "
      ]
     },
     "execution_count": 21,
     "metadata": {},
     "output_type": "execute_result"
    }
   ],
   "source": [
    "livestock_data.sample(5)"
   ]
  },
  {
   "cell_type": "code",
   "execution_count": 22,
   "id": "f2d80f81",
   "metadata": {},
   "outputs": [
    {
     "name": "stdout",
     "output_type": "stream",
     "text": [
      "Same countries:  False \n",
      " Same years:  True\n"
     ]
    }
   ],
   "source": [
    "print('Same countries: ', sorted(crop_data['Area'].unique()) == sorted(livestock_data['Area'].unique()), '\\n',\n",
    "     'Same years: ', sorted(crop_data['Year'].unique()) == sorted(livestock_data['Year'].unique()))"
   ]
  },
  {
   "cell_type": "code",
   "execution_count": 23,
   "id": "e319aa9d",
   "metadata": {},
   "outputs": [],
   "source": [
    "countries_not_in_crops = []\n",
    "countries_not_in_livestock = []\n",
    "\n",
    "tempx = livestock_data['Area'].unique()\n",
    "tempy = crop_data['Area'].unique()\n",
    "\n",
    "for country in tempx:\n",
    "    if country not in tempy:\n",
    "        countries_not_in_crops.append(country)\n",
    "        \n",
    "for country in tempy:\n",
    "    if country not in tempx:\n",
    "        countries_not_in_livestock.append(country)"
   ]
  },
  {
   "cell_type": "code",
   "execution_count": 24,
   "id": "a975acaf",
   "metadata": {},
   "outputs": [
    {
     "name": "stdout",
     "output_type": "stream",
     "text": [
      "Countries not in crops: \n",
      " [] \n",
      " \n",
      " Countries not in livestock: \n",
      " ['Maldives', 'Marshall Islands']\n"
     ]
    }
   ],
   "source": [
    "print('Countries not in crops:',\n",
    "      '\\n', countries_not_in_crops,\n",
    "      '\\n', '\\n',\n",
    "      'Countries not in livestock:',\n",
    "      '\\n', countries_not_in_livestock)"
   ]
  },
  {
   "cell_type": "markdown",
   "id": "8e50601d",
   "metadata": {},
   "source": [
    "Moving on with the assumption that Maldives and Marshall Islands aren't exactly industry giants in terms of husbandry, and lack of data stems from lack of production."
   ]
  },
  {
   "cell_type": "code",
   "execution_count": 25,
   "id": "c6dc2c27",
   "metadata": {},
   "outputs": [
    {
     "data": {
      "text/plain": [
       "array(['Stocks'], dtype=object)"
      ]
     },
     "execution_count": 25,
     "metadata": {},
     "output_type": "execute_result"
    }
   ],
   "source": [
    "livestock_data['Element'].unique()"
   ]
  },
  {
   "cell_type": "code",
   "execution_count": 26,
   "id": "3095aecc",
   "metadata": {},
   "outputs": [
    {
     "data": {
      "text/plain": [
       "array(['Head', '1000 Head', 'No'], dtype=object)"
      ]
     },
     "execution_count": 26,
     "metadata": {},
     "output_type": "execute_result"
    }
   ],
   "source": [
    "livestock_data['Unit'].unique()"
   ]
  },
  {
   "cell_type": "markdown",
   "id": "d6a85941",
   "metadata": {},
   "source": [
    "While livestock dataset only has data on the number of animals, it has 3 unit types. Normalizing everything to 'Head', rather than thousands, and exploring the 'No' type below."
   ]
  },
  {
   "cell_type": "code",
   "execution_count": 27,
   "id": "0babc246",
   "metadata": {},
   "outputs": [
    {
     "data": {
      "text/html": [
       "<div>\n",
       "<style scoped>\n",
       "    .dataframe tbody tr th:only-of-type {\n",
       "        vertical-align: middle;\n",
       "    }\n",
       "\n",
       "    .dataframe tbody tr th {\n",
       "        vertical-align: top;\n",
       "    }\n",
       "\n",
       "    .dataframe thead th {\n",
       "        text-align: right;\n",
       "    }\n",
       "</style>\n",
       "<table border=\"1\" class=\"dataframe\">\n",
       "  <thead>\n",
       "    <tr style=\"text-align: right;\">\n",
       "      <th></th>\n",
       "      <th>Area</th>\n",
       "      <th>Item</th>\n",
       "      <th>Element</th>\n",
       "      <th>Year</th>\n",
       "      <th>Unit</th>\n",
       "      <th>Value</th>\n",
       "    </tr>\n",
       "  </thead>\n",
       "  <tbody>\n",
       "    <tr>\n",
       "      <th>540</th>\n",
       "      <td>Albania</td>\n",
       "      <td>Beehives</td>\n",
       "      <td>Stocks</td>\n",
       "      <td>1961</td>\n",
       "      <td>No</td>\n",
       "      <td>95100.0</td>\n",
       "    </tr>\n",
       "    <tr>\n",
       "      <th>541</th>\n",
       "      <td>Albania</td>\n",
       "      <td>Beehives</td>\n",
       "      <td>Stocks</td>\n",
       "      <td>1962</td>\n",
       "      <td>No</td>\n",
       "      <td>92800.0</td>\n",
       "    </tr>\n",
       "    <tr>\n",
       "      <th>542</th>\n",
       "      <td>Albania</td>\n",
       "      <td>Beehives</td>\n",
       "      <td>Stocks</td>\n",
       "      <td>1963</td>\n",
       "      <td>No</td>\n",
       "      <td>83500.0</td>\n",
       "    </tr>\n",
       "    <tr>\n",
       "      <th>543</th>\n",
       "      <td>Albania</td>\n",
       "      <td>Beehives</td>\n",
       "      <td>Stocks</td>\n",
       "      <td>1964</td>\n",
       "      <td>No</td>\n",
       "      <td>96500.0</td>\n",
       "    </tr>\n",
       "    <tr>\n",
       "      <th>544</th>\n",
       "      <td>Albania</td>\n",
       "      <td>Beehives</td>\n",
       "      <td>Stocks</td>\n",
       "      <td>1965</td>\n",
       "      <td>No</td>\n",
       "      <td>109800.0</td>\n",
       "    </tr>\n",
       "    <tr>\n",
       "      <th>...</th>\n",
       "      <td>...</td>\n",
       "      <td>...</td>\n",
       "      <td>...</td>\n",
       "      <td>...</td>\n",
       "      <td>...</td>\n",
       "      <td>...</td>\n",
       "    </tr>\n",
       "    <tr>\n",
       "      <th>121742</th>\n",
       "      <td>Net Food Importing Developing Countries</td>\n",
       "      <td>Beehives</td>\n",
       "      <td>Stocks</td>\n",
       "      <td>2016</td>\n",
       "      <td>No</td>\n",
       "      <td>17589382.0</td>\n",
       "    </tr>\n",
       "    <tr>\n",
       "      <th>121743</th>\n",
       "      <td>Net Food Importing Developing Countries</td>\n",
       "      <td>Beehives</td>\n",
       "      <td>Stocks</td>\n",
       "      <td>2017</td>\n",
       "      <td>No</td>\n",
       "      <td>18173526.0</td>\n",
       "    </tr>\n",
       "    <tr>\n",
       "      <th>121744</th>\n",
       "      <td>Net Food Importing Developing Countries</td>\n",
       "      <td>Beehives</td>\n",
       "      <td>Stocks</td>\n",
       "      <td>2018</td>\n",
       "      <td>No</td>\n",
       "      <td>18806147.0</td>\n",
       "    </tr>\n",
       "    <tr>\n",
       "      <th>121745</th>\n",
       "      <td>Net Food Importing Developing Countries</td>\n",
       "      <td>Beehives</td>\n",
       "      <td>Stocks</td>\n",
       "      <td>2019</td>\n",
       "      <td>No</td>\n",
       "      <td>18200185.0</td>\n",
       "    </tr>\n",
       "    <tr>\n",
       "      <th>121746</th>\n",
       "      <td>Net Food Importing Developing Countries</td>\n",
       "      <td>Beehives</td>\n",
       "      <td>Stocks</td>\n",
       "      <td>2020</td>\n",
       "      <td>No</td>\n",
       "      <td>18476291.0</td>\n",
       "    </tr>\n",
       "  </tbody>\n",
       "</table>\n",
       "<p>8456 rows × 6 columns</p>\n",
       "</div>"
      ],
      "text/plain": [
       "                                           Area      Item Element  Year Unit  \\\n",
       "540                                     Albania  Beehives  Stocks  1961   No   \n",
       "541                                     Albania  Beehives  Stocks  1962   No   \n",
       "542                                     Albania  Beehives  Stocks  1963   No   \n",
       "543                                     Albania  Beehives  Stocks  1964   No   \n",
       "544                                     Albania  Beehives  Stocks  1965   No   \n",
       "...                                         ...       ...     ...   ...  ...   \n",
       "121742  Net Food Importing Developing Countries  Beehives  Stocks  2016   No   \n",
       "121743  Net Food Importing Developing Countries  Beehives  Stocks  2017   No   \n",
       "121744  Net Food Importing Developing Countries  Beehives  Stocks  2018   No   \n",
       "121745  Net Food Importing Developing Countries  Beehives  Stocks  2019   No   \n",
       "121746  Net Food Importing Developing Countries  Beehives  Stocks  2020   No   \n",
       "\n",
       "             Value  \n",
       "540        95100.0  \n",
       "541        92800.0  \n",
       "542        83500.0  \n",
       "543        96500.0  \n",
       "544       109800.0  \n",
       "...            ...  \n",
       "121742  17589382.0  \n",
       "121743  18173526.0  \n",
       "121744  18806147.0  \n",
       "121745  18200185.0  \n",
       "121746  18476291.0  \n",
       "\n",
       "[8456 rows x 6 columns]"
      ]
     },
     "execution_count": 27,
     "metadata": {},
     "output_type": "execute_result"
    }
   ],
   "source": [
    "livestock_data[livestock_data['Unit'] == 'No']"
   ]
  },
  {
   "cell_type": "code",
   "execution_count": 28,
   "id": "e2223c74",
   "metadata": {},
   "outputs": [
    {
     "data": {
      "text/plain": [
       "array(['Beehives'], dtype=object)"
      ]
     },
     "execution_count": 28,
     "metadata": {},
     "output_type": "execute_result"
    }
   ],
   "source": [
    "livestock_data[livestock_data['Unit'] == 'No']['Item'].unique()"
   ]
  },
  {
   "cell_type": "markdown",
   "id": "95a9df06",
   "metadata": {},
   "source": [
    "As seen above, 'No' most likely referred to number of units. Replacing all values in the unit columns with 'Head/Unit', multiplying by 1000 where necessary."
   ]
  },
  {
   "cell_type": "code",
   "execution_count": 29,
   "id": "cc13d381",
   "metadata": {},
   "outputs": [],
   "source": [
    "for i in range(len(livestock_data)):\n",
    "    if livestock_data.loc[i, 'Unit'] == '1000 Head':\n",
    "        livestock_data.loc[i, 'Value'] *= 1000\n",
    "        livestock_data.loc[i, 'Unit'] = 'Head/Unit'\n",
    "    else:\n",
    "        livestock_data.loc[i, 'Unit'] = 'Head/Unit'"
   ]
  },
  {
   "cell_type": "markdown",
   "id": "04841306",
   "metadata": {},
   "source": [
    "Study note: similar conversion was attempted for crop yield units, changing the uniform hg/ha values to more familiar t/ha, yet the loop took way too long to run; conversions were instead performed on filtered data right before visualisation/printing."
   ]
  },
  {
   "cell_type": "code",
   "execution_count": 30,
   "id": "3cb4b832",
   "metadata": {},
   "outputs": [
    {
     "data": {
      "text/plain": [
       "Area           Spain\n",
       "Item           Ducks\n",
       "Element       Stocks\n",
       "Year            1962\n",
       "Unit       Head/Unit\n",
       "Value       724000.0\n",
       "Name: 81193, dtype: object"
      ]
     },
     "execution_count": 30,
     "metadata": {},
     "output_type": "execute_result"
    }
   ],
   "source": [
    "livestock_data.iloc[81193]"
   ]
  },
  {
   "cell_type": "code",
   "execution_count": 31,
   "id": "eac5509e",
   "metadata": {},
   "outputs": [
    {
     "data": {
      "text/plain": [
       "array(['Asses', 'Camels', 'Cattle', 'Chickens', 'Goats', 'Horses',\n",
       "       'Mules', 'Sheep', 'Beehives', 'Buffaloes', 'Ducks',\n",
       "       'Geese and guinea fowls', 'Pigs', 'Rabbits and hares'],\n",
       "      dtype=object)"
      ]
     },
     "execution_count": 31,
     "metadata": {},
     "output_type": "execute_result"
    }
   ],
   "source": [
    "livestock_data['Item'].unique()"
   ]
  },
  {
   "cell_type": "code",
   "execution_count": 32,
   "id": "fdfb565f",
   "metadata": {},
   "outputs": [
    {
     "name": "stdout",
     "output_type": "stream",
     "text": [
      "(34,) (209,) (243,)\n"
     ]
    }
   ],
   "source": [
    "livestock_data_regions = livestock_data[livestock_data['Area'].isin(regions)].copy()\n",
    "livestock_data_countries = livestock_data[livestock_data['Area'].isin(regions)==False].copy()\n",
    "print(livestock_data_regions['Area'].unique().shape,\n",
    "      livestock_data_countries['Area'].unique().shape,\n",
    "      livestock_data['Area'].unique().shape)"
   ]
  },
  {
   "cell_type": "markdown",
   "id": "4b8e5a3b",
   "metadata": {},
   "source": [
    "Finally, having a look at 'pop1' table, hopefully containing some general data on countries."
   ]
  },
  {
   "cell_type": "code",
   "execution_count": 33,
   "id": "c482ecb9",
   "metadata": {},
   "outputs": [
    {
     "name": "stdout",
     "output_type": "stream",
     "text": [
      "<class 'pandas.core.frame.DataFrame'>\n",
      "RangeIndex: 265 entries, 0 to 264\n",
      "Data columns (total 64 columns):\n",
      " #   Column        Non-Null Count  Dtype  \n",
      "---  ------        --------------  -----  \n",
      " 0   Country Name  265 non-null    object \n",
      " 1   Country Code  265 non-null    object \n",
      " 2   1960          263 non-null    float64\n",
      " 3   1961          263 non-null    float64\n",
      " 4   1962          263 non-null    float64\n",
      " 5   1963          263 non-null    float64\n",
      " 6   1964          263 non-null    float64\n",
      " 7   1965          263 non-null    float64\n",
      " 8   1966          263 non-null    float64\n",
      " 9   1967          263 non-null    float64\n",
      " 10  1968          263 non-null    float64\n",
      " 11  1969          263 non-null    float64\n",
      " 12  1970          263 non-null    float64\n",
      " 13  1971          263 non-null    float64\n",
      " 14  1972          263 non-null    float64\n",
      " 15  1973          263 non-null    float64\n",
      " 16  1974          263 non-null    float64\n",
      " 17  1975          263 non-null    float64\n",
      " 18  1976          263 non-null    float64\n",
      " 19  1977          263 non-null    float64\n",
      " 20  1978          263 non-null    float64\n",
      " 21  1979          263 non-null    float64\n",
      " 22  1980          263 non-null    float64\n",
      " 23  1981          263 non-null    float64\n",
      " 24  1982          263 non-null    float64\n",
      " 25  1983          263 non-null    float64\n",
      " 26  1984          263 non-null    float64\n",
      " 27  1985          263 non-null    float64\n",
      " 28  1986          263 non-null    float64\n",
      " 29  1987          263 non-null    float64\n",
      " 30  1988          263 non-null    float64\n",
      " 31  1989          263 non-null    float64\n",
      " 32  1990          264 non-null    float64\n",
      " 33  1991          264 non-null    float64\n",
      " 34  1992          263 non-null    float64\n",
      " 35  1993          263 non-null    float64\n",
      " 36  1994          263 non-null    float64\n",
      " 37  1995          264 non-null    float64\n",
      " 38  1996          264 non-null    float64\n",
      " 39  1997          264 non-null    float64\n",
      " 40  1998          264 non-null    float64\n",
      " 41  1999          264 non-null    float64\n",
      " 42  2000          264 non-null    float64\n",
      " 43  2001          264 non-null    float64\n",
      " 44  2002          264 non-null    float64\n",
      " 45  2003          264 non-null    float64\n",
      " 46  2004          264 non-null    float64\n",
      " 47  2005          264 non-null    float64\n",
      " 48  2006          264 non-null    float64\n",
      " 49  2007          264 non-null    float64\n",
      " 50  2008          264 non-null    float64\n",
      " 51  2009          264 non-null    float64\n",
      " 52  2010          264 non-null    float64\n",
      " 53  2011          264 non-null    float64\n",
      " 54  2012          263 non-null    float64\n",
      " 55  2013          263 non-null    float64\n",
      " 56  2014          263 non-null    float64\n",
      " 57  2015          263 non-null    float64\n",
      " 58  2016          263 non-null    float64\n",
      " 59  2017          263 non-null    float64\n",
      " 60  2018          263 non-null    float64\n",
      " 61  2019          263 non-null    float64\n",
      " 62  2020          263 non-null    float64\n",
      " 63  2021          263 non-null    float64\n",
      "dtypes: float64(62), object(2)\n",
      "memory usage: 132.6+ KB\n"
     ]
    }
   ],
   "source": [
    "pop_data = pd.read_csv('pop1.csv')\n",
    "pop_data.info()"
   ]
  },
  {
   "cell_type": "code",
   "execution_count": 34,
   "id": "517ce18c",
   "metadata": {},
   "outputs": [
    {
     "data": {
      "text/html": [
       "<div>\n",
       "<style scoped>\n",
       "    .dataframe tbody tr th:only-of-type {\n",
       "        vertical-align: middle;\n",
       "    }\n",
       "\n",
       "    .dataframe tbody tr th {\n",
       "        vertical-align: top;\n",
       "    }\n",
       "\n",
       "    .dataframe thead th {\n",
       "        text-align: right;\n",
       "    }\n",
       "</style>\n",
       "<table border=\"1\" class=\"dataframe\">\n",
       "  <thead>\n",
       "    <tr style=\"text-align: right;\">\n",
       "      <th></th>\n",
       "      <th>Country Name</th>\n",
       "      <th>Country Code</th>\n",
       "      <th>1960</th>\n",
       "      <th>1961</th>\n",
       "      <th>1962</th>\n",
       "      <th>1963</th>\n",
       "      <th>1964</th>\n",
       "      <th>1965</th>\n",
       "      <th>1966</th>\n",
       "      <th>1967</th>\n",
       "      <th>...</th>\n",
       "      <th>2012</th>\n",
       "      <th>2013</th>\n",
       "      <th>2014</th>\n",
       "      <th>2015</th>\n",
       "      <th>2016</th>\n",
       "      <th>2017</th>\n",
       "      <th>2018</th>\n",
       "      <th>2019</th>\n",
       "      <th>2020</th>\n",
       "      <th>2021</th>\n",
       "    </tr>\n",
       "  </thead>\n",
       "  <tbody>\n",
       "    <tr>\n",
       "      <th>199</th>\n",
       "      <td>French Polynesia</td>\n",
       "      <td>PYF</td>\n",
       "      <td>78080.0</td>\n",
       "      <td>80705.0</td>\n",
       "      <td>83652.0</td>\n",
       "      <td>86847.0</td>\n",
       "      <td>90132.0</td>\n",
       "      <td>93442.0</td>\n",
       "      <td>96719.0</td>\n",
       "      <td>99990.0</td>\n",
       "      <td>...</td>\n",
       "      <td>268995.0</td>\n",
       "      <td>270332.0</td>\n",
       "      <td>271713.0</td>\n",
       "      <td>273119.0</td>\n",
       "      <td>274576.0</td>\n",
       "      <td>276108.0</td>\n",
       "      <td>277673.0</td>\n",
       "      <td>279285.0</td>\n",
       "      <td>280904.0</td>\n",
       "      <td>282534.0</td>\n",
       "    </tr>\n",
       "    <tr>\n",
       "      <th>15</th>\n",
       "      <td>Azerbaijan</td>\n",
       "      <td>AZE</td>\n",
       "      <td>3895398.0</td>\n",
       "      <td>4030325.0</td>\n",
       "      <td>4171428.0</td>\n",
       "      <td>4315127.0</td>\n",
       "      <td>4456691.0</td>\n",
       "      <td>4592601.0</td>\n",
       "      <td>4721528.0</td>\n",
       "      <td>4843872.0</td>\n",
       "      <td>...</td>\n",
       "      <td>9295784.0</td>\n",
       "      <td>9416801.0</td>\n",
       "      <td>9535079.0</td>\n",
       "      <td>9649341.0</td>\n",
       "      <td>9757812.0</td>\n",
       "      <td>9854033.0</td>\n",
       "      <td>9939771.0</td>\n",
       "      <td>10024283.0</td>\n",
       "      <td>10093121.0</td>\n",
       "      <td>10145212.0</td>\n",
       "    </tr>\n",
       "    <tr>\n",
       "      <th>253</th>\n",
       "      <td>St. Vincent and the Grenadines</td>\n",
       "      <td>VCT</td>\n",
       "      <td>80970.0</td>\n",
       "      <td>82168.0</td>\n",
       "      <td>83239.0</td>\n",
       "      <td>84200.0</td>\n",
       "      <td>85117.0</td>\n",
       "      <td>86009.0</td>\n",
       "      <td>86907.0</td>\n",
       "      <td>87779.0</td>\n",
       "      <td>...</td>\n",
       "      <td>108435.0</td>\n",
       "      <td>108624.0</td>\n",
       "      <td>108868.0</td>\n",
       "      <td>109135.0</td>\n",
       "      <td>109467.0</td>\n",
       "      <td>109826.0</td>\n",
       "      <td>110210.0</td>\n",
       "      <td>110593.0</td>\n",
       "      <td>110947.0</td>\n",
       "      <td>111269.0</td>\n",
       "    </tr>\n",
       "    <tr>\n",
       "      <th>78</th>\n",
       "      <td>Faroe Islands</td>\n",
       "      <td>FRO</td>\n",
       "      <td>34624.0</td>\n",
       "      <td>35074.0</td>\n",
       "      <td>35521.0</td>\n",
       "      <td>35965.0</td>\n",
       "      <td>36409.0</td>\n",
       "      <td>36843.0</td>\n",
       "      <td>37283.0</td>\n",
       "      <td>37705.0</td>\n",
       "      <td>...</td>\n",
       "      <td>47843.0</td>\n",
       "      <td>47901.0</td>\n",
       "      <td>47965.0</td>\n",
       "      <td>48055.0</td>\n",
       "      <td>48173.0</td>\n",
       "      <td>48326.0</td>\n",
       "      <td>48497.0</td>\n",
       "      <td>48677.0</td>\n",
       "      <td>48865.0</td>\n",
       "      <td>49053.0</td>\n",
       "    </tr>\n",
       "    <tr>\n",
       "      <th>112</th>\n",
       "      <td>Iran, Islamic Rep.</td>\n",
       "      <td>IRN</td>\n",
       "      <td>21906909.0</td>\n",
       "      <td>22480371.0</td>\n",
       "      <td>23071309.0</td>\n",
       "      <td>23680246.0</td>\n",
       "      <td>24307855.0</td>\n",
       "      <td>24954865.0</td>\n",
       "      <td>25624380.0</td>\n",
       "      <td>26317776.0</td>\n",
       "      <td>...</td>\n",
       "      <td>75539881.0</td>\n",
       "      <td>76481963.0</td>\n",
       "      <td>77465769.0</td>\n",
       "      <td>78492208.0</td>\n",
       "      <td>79563991.0</td>\n",
       "      <td>80673888.0</td>\n",
       "      <td>81800204.0</td>\n",
       "      <td>82913893.0</td>\n",
       "      <td>83992953.0</td>\n",
       "      <td>85028760.0</td>\n",
       "    </tr>\n",
       "  </tbody>\n",
       "</table>\n",
       "<p>5 rows × 64 columns</p>\n",
       "</div>"
      ],
      "text/plain": [
       "                       Country Name Country Code        1960        1961  \\\n",
       "199                French Polynesia          PYF     78080.0     80705.0   \n",
       "15                       Azerbaijan          AZE   3895398.0   4030325.0   \n",
       "253  St. Vincent and the Grenadines          VCT     80970.0     82168.0   \n",
       "78                    Faroe Islands          FRO     34624.0     35074.0   \n",
       "112              Iran, Islamic Rep.          IRN  21906909.0  22480371.0   \n",
       "\n",
       "           1962        1963        1964        1965        1966        1967  \\\n",
       "199     83652.0     86847.0     90132.0     93442.0     96719.0     99990.0   \n",
       "15    4171428.0   4315127.0   4456691.0   4592601.0   4721528.0   4843872.0   \n",
       "253     83239.0     84200.0     85117.0     86009.0     86907.0     87779.0   \n",
       "78      35521.0     35965.0     36409.0     36843.0     37283.0     37705.0   \n",
       "112  23071309.0  23680246.0  24307855.0  24954865.0  25624380.0  26317776.0   \n",
       "\n",
       "     ...        2012        2013        2014        2015        2016  \\\n",
       "199  ...    268995.0    270332.0    271713.0    273119.0    274576.0   \n",
       "15   ...   9295784.0   9416801.0   9535079.0   9649341.0   9757812.0   \n",
       "253  ...    108435.0    108624.0    108868.0    109135.0    109467.0   \n",
       "78   ...     47843.0     47901.0     47965.0     48055.0     48173.0   \n",
       "112  ...  75539881.0  76481963.0  77465769.0  78492208.0  79563991.0   \n",
       "\n",
       "           2017        2018        2019        2020        2021  \n",
       "199    276108.0    277673.0    279285.0    280904.0    282534.0  \n",
       "15    9854033.0   9939771.0  10024283.0  10093121.0  10145212.0  \n",
       "253    109826.0    110210.0    110593.0    110947.0    111269.0  \n",
       "78      48326.0     48497.0     48677.0     48865.0     49053.0  \n",
       "112  80673888.0  81800204.0  82913893.0  83992953.0  85028760.0  \n",
       "\n",
       "[5 rows x 64 columns]"
      ]
     },
     "execution_count": 34,
     "metadata": {},
     "output_type": "execute_result"
    }
   ],
   "source": [
    "pop_data.sample(5)"
   ]
  },
  {
   "cell_type": "code",
   "execution_count": 35,
   "id": "97a76bc8",
   "metadata": {},
   "outputs": [],
   "source": [
    "countries_not_in_crops = []\n",
    "countries_not_in_pops = []\n",
    "\n",
    "tempx = pop_data['Country Name'].unique()\n",
    "tempy = crop_data['Area'].unique()\n",
    "\n",
    "for country in tempx:\n",
    "    if country not in tempy:\n",
    "        countries_not_in_crops.append(country)\n",
    "        \n",
    "for country in tempy:\n",
    "    if country not in tempx:\n",
    "        countries_not_in_pops.append(country)"
   ]
  },
  {
   "cell_type": "code",
   "execution_count": 36,
   "id": "f322d400",
   "metadata": {
    "scrolled": true
   },
   "outputs": [
    {
     "name": "stdout",
     "output_type": "stream",
     "text": [
      "Countries not in crops: \n",
      " ['Aruba', 'Africa Eastern and Southern', 'Africa Western and Central', 'Andorra', 'Arab World', 'American Samoa', 'Bahamas, The', 'Bermuda', 'Bolivia', 'Central Europe and the Baltics', 'Channel Islands', \"Cote d'Ivoire\", 'Congo, Dem. Rep.', 'Congo, Rep.', 'Caribbean small states', 'Curacao', 'Cayman Islands', 'Czech Republic', 'East Asia & Pacific (excluding high income)', 'Early-demographic dividend', 'East Asia & Pacific', 'Europe & Central Asia (excluding high income)', 'Europe & Central Asia', 'Egypt, Arab Rep.', 'Euro area', 'European Union', 'Fragile and conflict affected situations', 'Micronesia, Fed. Sts.', 'United Kingdom', 'Gibraltar', 'Gambia, The', 'Greenland', 'Guam', 'High income', 'Hong Kong SAR, China', 'Heavily indebted poor countries (HIPC)', 'IBRD only', 'IDA & IBRD total', 'IDA total', 'IDA blend', 'IDA only', 'Isle of Man', 'Not classified', 'Iran, Islamic Rep.', 'Kyrgyz Republic', 'St. Kitts and Nevis', 'Korea, Rep.', 'Latin America & Caribbean (excluding high income)', 'Lao PDR', 'St. Lucia', 'Latin America & Caribbean', 'Least developed countries: UN classification', 'Low income', 'Liechtenstein', 'Lower middle income', 'Low & middle income', 'Late-demographic dividend', 'Macao SAR, China', 'St. Martin (French part)', 'Monaco', 'Moldova', 'Middle East & North Africa', 'Middle income', 'Middle East & North Africa (excluding high income)', 'Northern Mariana Islands', 'North America', 'OECD members', 'Other small states', 'Palau', 'Pre-demographic dividend', \"Korea, Dem. People's Rep.\", 'West Bank and Gaza', 'Pacific island small states', 'Post-demographic dividend', 'South Asia', 'San Marino', 'Sub-Saharan Africa (excluding high income)', 'Sub-Saharan Africa', 'Small states', 'Slovak Republic', 'Sint Maarten (Dutch part)', 'Turks and Caicos Islands', 'East Asia & Pacific (IDA & IBRD countries)', 'Europe & Central Asia (IDA & IBRD countries)', 'Latin America & the Caribbean (IDA & IBRD countries)', 'Middle East & North Africa (IDA & IBRD countries)', 'South Asia (IDA & IBRD)', 'Sub-Saharan Africa (IDA & IBRD countries)', 'Turkiye', 'Tanzania', 'Upper middle income', 'United States', 'St. Vincent and the Grenadines', 'Venezuela, RB', 'British Virgin Islands', 'Virgin Islands (U.S.)', 'Vietnam', 'Kosovo', 'Yemen, Rep.'] \n",
      " \n",
      " Countries not in population: \n",
      " ['Bahamas', 'Belgium-Luxembourg', 'Bolivia (Plurinational State of)', 'China, Hong Kong SAR', 'China, Macao SAR', 'China, mainland', 'China, Taiwan Province of', 'Congo', 'Cook Islands', \"Côte d'Ivoire\", 'Czechia', 'Czechoslovakia', \"Democratic People's Republic of Korea\", 'Democratic Republic of the Congo', 'Egypt', 'Ethiopia PDR', 'French Guyana', 'Gambia', 'Guadeloupe', 'Iran (Islamic Republic of)', 'Kyrgyzstan', \"Lao People's Democratic Republic\", 'Martinique', 'Micronesia (Federated States of)', 'Niue', 'Palestine', 'Republic of Korea', 'Republic of Moldova', 'Réunion', 'Saint Kitts and Nevis', 'Saint Lucia', 'Saint Vincent and the Grenadines', 'Serbia and Montenegro', 'Slovakia', 'Sudan (former)', 'Tokelau', 'Turkey', 'United Kingdom of Great Britain and Northern Ireland', 'United Republic of Tanzania', 'United States of America', 'USSR', 'Venezuela (Bolivarian Republic of)', 'Viet Nam', 'Yemen', 'Yugoslav SFR', 'Zimbabwe', 'Africa', 'Eastern Africa', 'Middle Africa', 'Northern Africa', 'Southern Africa', 'Western Africa', 'Americas', 'Northern America', 'Central America', 'Caribbean', 'South America', 'Asia', 'Central Asia', 'Eastern Asia', 'Southern Asia', 'South-eastern Asia', 'Western Asia', 'Europe', 'Eastern Europe', 'Northern Europe', 'Southern Europe', 'Western Europe', 'Oceania', 'Australia and New Zealand', 'Melanesia', 'Micronesia', 'Polynesia', 'European Union (27)', 'Least Developed Countries', 'Land Locked Developing Countries', 'Small Island Developing States', 'Low Income Food Deficit Countries', 'Net Food Importing Developing Countries']\n"
     ]
    }
   ],
   "source": [
    "print('Countries not in crops:',\n",
    "      '\\n', countries_not_in_crops,\n",
    "      '\\n', '\\n',\n",
    "      'Countries not in population:',\n",
    "      '\\n', countries_not_in_pops)"
   ]
  },
  {
   "cell_type": "code",
   "execution_count": 37,
   "id": "b271e8f1",
   "metadata": {},
   "outputs": [
    {
     "data": {
      "text/html": [
       "<div>\n",
       "<style scoped>\n",
       "    .dataframe tbody tr th:only-of-type {\n",
       "        vertical-align: middle;\n",
       "    }\n",
       "\n",
       "    .dataframe tbody tr th {\n",
       "        vertical-align: top;\n",
       "    }\n",
       "\n",
       "    .dataframe thead th {\n",
       "        text-align: right;\n",
       "    }\n",
       "</style>\n",
       "<table border=\"1\" class=\"dataframe\">\n",
       "  <thead>\n",
       "    <tr style=\"text-align: right;\">\n",
       "      <th></th>\n",
       "      <th>Country Name</th>\n",
       "      <th>Country Code</th>\n",
       "      <th>1960</th>\n",
       "      <th>1961</th>\n",
       "      <th>1962</th>\n",
       "      <th>1963</th>\n",
       "      <th>1964</th>\n",
       "      <th>1965</th>\n",
       "      <th>1966</th>\n",
       "      <th>1967</th>\n",
       "      <th>...</th>\n",
       "      <th>2012</th>\n",
       "      <th>2013</th>\n",
       "      <th>2014</th>\n",
       "      <th>2015</th>\n",
       "      <th>2016</th>\n",
       "      <th>2017</th>\n",
       "      <th>2018</th>\n",
       "      <th>2019</th>\n",
       "      <th>2020</th>\n",
       "      <th>2021</th>\n",
       "    </tr>\n",
       "  </thead>\n",
       "  <tbody>\n",
       "    <tr>\n",
       "      <th>248</th>\n",
       "      <td>Ukraine</td>\n",
       "      <td>UKR</td>\n",
       "      <td>42664646.0</td>\n",
       "      <td>43206353.0</td>\n",
       "      <td>43752227.0</td>\n",
       "      <td>44288607.0</td>\n",
       "      <td>44796959.0</td>\n",
       "      <td>45264552.0</td>\n",
       "      <td>45684983.0</td>\n",
       "      <td>46063219.0</td>\n",
       "      <td>...</td>\n",
       "      <td>45593342.0</td>\n",
       "      <td>45489648.0</td>\n",
       "      <td>45272155.0</td>\n",
       "      <td>45154036.0</td>\n",
       "      <td>45004673.0</td>\n",
       "      <td>44831135.0</td>\n",
       "      <td>44622518.0</td>\n",
       "      <td>44386203.0</td>\n",
       "      <td>44132049.0</td>\n",
       "      <td>43814581.0</td>\n",
       "    </tr>\n",
       "  </tbody>\n",
       "</table>\n",
       "<p>1 rows × 64 columns</p>\n",
       "</div>"
      ],
      "text/plain": [
       "    Country Name Country Code        1960        1961        1962        1963  \\\n",
       "248      Ukraine          UKR  42664646.0  43206353.0  43752227.0  44288607.0   \n",
       "\n",
       "           1964        1965        1966        1967  ...        2012  \\\n",
       "248  44796959.0  45264552.0  45684983.0  46063219.0  ...  45593342.0   \n",
       "\n",
       "           2013        2014        2015        2016        2017        2018  \\\n",
       "248  45489648.0  45272155.0  45154036.0  45004673.0  44831135.0  44622518.0   \n",
       "\n",
       "           2019        2020        2021  \n",
       "248  44386203.0  44132049.0  43814581.0  \n",
       "\n",
       "[1 rows x 64 columns]"
      ]
     },
     "execution_count": 37,
     "metadata": {},
     "output_type": "execute_result"
    }
   ],
   "source": [
    "pop_data[pop_data['Country Name'] == 'Ukraine']"
   ]
  },
  {
   "cell_type": "markdown",
   "id": "06f9c912",
   "metadata": {},
   "source": [
    "Problem: population data uses a different naming convention for countries, and a different, albeit similar, regional grouping.\n",
    "\n",
    "Names will NOT be corrected, as livestock and crops data uses historic names for relevant periods, while population data uses current names for relevant territories. As such, any adjustments will have to be done carefully depending on the analysis goal, so leaving it for now.\n",
    "As such, population data from [Countries of the World](https://www.kaggle.com/datasets/fernandol/countries-of-the-world?resource=download) dataset may be easier to use.\n",
    "\n",
    "Filtering out data on regions below, though."
   ]
  },
  {
   "cell_type": "code",
   "execution_count": 38,
   "id": "1c0985c9",
   "metadata": {},
   "outputs": [
    {
     "name": "stdout",
     "output_type": "stream",
     "text": [
      "(47,) (218,) (265,)\n"
     ]
    }
   ],
   "source": [
    "regions2 = ['World', 'Africa', 'Eastern Africa', 'Middle Africa', 'Northern Africa',\n",
    "                           'Southern Africa', 'Western Africa', 'Americas', 'Northern America', 'Central America',\n",
    "                           'Caribbean', 'South America', 'Asia', 'Central Asia', 'Eastern Asia', 'Southern Asia',\n",
    "                           'South-eastern Asia', 'Western Asia', 'Europe', 'Eastern Europe', 'Northern Europe',\n",
    "                           'Southern Europe', 'Western Europe', 'Oceania', 'Australia and New Zealand', 'Melanesia',\n",
    "                           'Micronesia', 'Polynesia', 'European Union (27)', 'Least Developed Countries',\n",
    "                           'Land Locked Developing Countries', 'Small Island Developing States',\n",
    "                           'Low Income Food Deficit Countries', 'Net Food Importing Developing Countries',\n",
    "          'Africa Eastern and Southern', 'Africa Western and Central', 'Arab World', 'Central Europe and the Baltics',\n",
    "          'East Asia & Pacific (excluding high income)', 'Early-demographic dividend', 'East Asia & Pacific', \n",
    "          'Europe & Central Asia (excluding high income)', 'Europe & Central Asia', 'Euro area', 'European Union',\n",
    "          'Fragile and conflict affected situations', 'High income', 'Heavily indebted poor countries (HIPC)', \n",
    "          'IBRD only', 'IDA & IBRD total', 'IDA total', 'IDA blend', 'IDA only', 'Not classified',\n",
    "          'Latin America & Caribbean (excluding high income)', 'Latin America & Caribbean',\n",
    "          'Least developed countries: UN classification', 'Low income', 'Lower middle income', 'Low & middle income',\n",
    "          'Late-demographic dividend', 'Middle East & North Africa', 'Middle income',\n",
    "          'Middle East & North Africa (excluding high income)', 'North America', 'OECD members', 'Other small states',\n",
    "          'Pre-demographic dividend', 'Post-demographic dividend', 'South Asia', 'Sub-Saharan Africa (excluding high income)',\n",
    "          'Sub-Saharan Africa', 'Small states', 'East Asia & Pacific (IDA & IBRD countries)',\n",
    "          'Europe & Central Asia (IDA & IBRD countries)', 'Latin America & the Caribbean (IDA & IBRD countries)',\n",
    "          'Middle East & North Africa (IDA & IBRD countries)', 'South Asia (IDA & IBRD)',\n",
    "          'Sub-Saharan Africa (IDA & IBRD countries)', 'Upper middle income']\n",
    "pop_data_regions = pop_data[pop_data['Country Name'].isin(regions2)].copy()\n",
    "pop_data_countries = pop_data[pop_data['Country Name'].isin(regions2)==False].copy()\n",
    "print(pop_data_regions['Country Name'].unique().shape,\n",
    "      pop_data_countries['Country Name'].unique().shape,\n",
    "      pop_data['Country Name'].unique().shape)"
   ]
  },
  {
   "cell_type": "markdown",
   "id": "b8ff8a72",
   "metadata": {},
   "source": [
    "Population table has extra data columns for 1960 and 2021 (other tables only go from 1961 till 2020); apart from that, 'Country Code' column in population table and 'Item' column in livestock table serve no purpose for project goals. Leaving it all in place just in case, though."
   ]
  },
  {
   "cell_type": "markdown",
   "id": "ec458b75",
   "metadata": {},
   "source": [
    "To summarize, any per-country analysis would have to be very careful given name mis-matches both across dataframes and over different time periods. Moreover, dataset lacks data on pastures and yield (both may be assumed given some industry-average per-head values), and lacks data on forest areas (hypothesis on deforestation will not be pursued)."
   ]
  },
  {
   "cell_type": "markdown",
   "id": "2c5cdbc9",
   "metadata": {},
   "source": [
    "# IV. Glimpse at current state of affairs: descriptive statistics"
   ]
  },
  {
   "cell_type": "markdown",
   "id": "8be57bf5",
   "metadata": {},
   "source": [
    "Below is a brief glance at global data. As COVID may have skewed 2020 data, 2019 was chosen instead."
   ]
  },
  {
   "cell_type": "code",
   "execution_count": 39,
   "id": "a1f7b582",
   "metadata": {},
   "outputs": [],
   "source": [
    "crop_world = crop_data[crop_data['Area'] == 'World'].copy()\n",
    "prod_sums = crop_world[(crop_world['Element'] == 'Production') & (crop_world['Year'] == 2019)].groupby('Item').sum()\n",
    "prod_sums = prod_sums.sort_values(by = 'Value', ascending = False)"
   ]
  },
  {
   "cell_type": "code",
   "execution_count": 40,
   "id": "fc97e6e2",
   "metadata": {},
   "outputs": [],
   "source": [
    "area_sums = crop_world[(crop_world['Element'] == 'Area harvested') & (crop_world['Year'] == 2019)].groupby('Item').sum()\n",
    "area_sums = area_sums.sort_values(by = 'Value', ascending = False)"
   ]
  },
  {
   "cell_type": "code",
   "execution_count": 41,
   "id": "17a0a16b",
   "metadata": {},
   "outputs": [
    {
     "name": "stdout",
     "output_type": "stream",
     "text": [
      "Average annual harvest per crop type, tonnes: 77592308\n",
      "Average harvestable area per crop type, hectares: 11581391\n",
      "Average annual yield across all crop types, tonnes per hectare: 6.70\n"
     ]
    }
   ],
   "source": [
    "print('Average annual harvest per crop type, tonnes: %.0f' %(prod_sums['Value'].sum()/prod_sums['Value'].shape[0]))\n",
    "print('Average harvestable area per crop type, hectares: %.0f' %(area_sums['Value'].sum()/area_sums['Value'].shape[0]))\n",
    "print('Average annual yield across all crop types, tonnes per hectare: %.2f'\n",
    "      %((prod_sums['Value'].sum()/prod_sums['Value'].shape[0]) / (area_sums['Value'].sum()/area_sums['Value'].shape[0])))"
   ]
  },
  {
   "cell_type": "markdown",
   "id": "174f9e65",
   "metadata": {},
   "source": [
    "Note to self: not the most elegant way to apply a function accross a series.\n",
    "\n",
    "Figure for average annual yield is heavily skewed by widely used \"heavy\" crops, most notably sugar cane, and as such doesn't tell much."
   ]
  },
  {
   "cell_type": "code",
   "execution_count": 42,
   "id": "091ae16c",
   "metadata": {},
   "outputs": [
    {
     "data": {
      "text/html": [
       "<div>\n",
       "<style scoped>\n",
       "    .dataframe tbody tr th:only-of-type {\n",
       "        vertical-align: middle;\n",
       "    }\n",
       "\n",
       "    .dataframe tbody tr th {\n",
       "        vertical-align: top;\n",
       "    }\n",
       "\n",
       "    .dataframe thead th {\n",
       "        text-align: right;\n",
       "    }\n",
       "</style>\n",
       "<table border=\"1\" class=\"dataframe\">\n",
       "  <thead>\n",
       "    <tr style=\"text-align: right;\">\n",
       "      <th></th>\n",
       "      <th>Production, t</th>\n",
       "    </tr>\n",
       "    <tr>\n",
       "      <th>Item</th>\n",
       "      <th></th>\n",
       "    </tr>\n",
       "  </thead>\n",
       "  <tbody>\n",
       "    <tr>\n",
       "      <th>Sugar cane</th>\n",
       "      <td>1.955308e+09</td>\n",
       "    </tr>\n",
       "    <tr>\n",
       "      <th>Maize</th>\n",
       "      <td>1.141360e+09</td>\n",
       "    </tr>\n",
       "    <tr>\n",
       "      <th>Wheat</th>\n",
       "      <td>7.649808e+08</td>\n",
       "    </tr>\n",
       "    <tr>\n",
       "      <th>Rice, paddy</th>\n",
       "      <td>7.491899e+08</td>\n",
       "    </tr>\n",
       "    <tr>\n",
       "      <th>Oil palm fruit</th>\n",
       "      <td>4.158981e+08</td>\n",
       "    </tr>\n",
       "    <tr>\n",
       "      <th>Potatoes</th>\n",
       "      <td>3.548121e+08</td>\n",
       "    </tr>\n",
       "    <tr>\n",
       "      <th>Soybeans</th>\n",
       "      <td>3.363294e+08</td>\n",
       "    </tr>\n",
       "    <tr>\n",
       "      <th>Cassava</th>\n",
       "      <td>2.990282e+08</td>\n",
       "    </tr>\n",
       "    <tr>\n",
       "      <th>Vegetables, fresh nes</th>\n",
       "      <td>2.951793e+08</td>\n",
       "    </tr>\n",
       "    <tr>\n",
       "      <th>Sugar beet</th>\n",
       "      <td>2.809188e+08</td>\n",
       "    </tr>\n",
       "    <tr>\n",
       "      <th>Other</th>\n",
       "      <td>2.562888e+09</td>\n",
       "    </tr>\n",
       "  </tbody>\n",
       "</table>\n",
       "</div>"
      ],
      "text/plain": [
       "                       Production, t\n",
       "Item                                \n",
       "Sugar cane              1.955308e+09\n",
       "Maize                   1.141360e+09\n",
       "Wheat                   7.649808e+08\n",
       "Rice, paddy             7.491899e+08\n",
       "Oil palm fruit          4.158981e+08\n",
       "Potatoes                3.548121e+08\n",
       "Soybeans                3.363294e+08\n",
       "Cassava                 2.990282e+08\n",
       "Vegetables, fresh nes   2.951793e+08\n",
       "Sugar beet              2.809188e+08\n",
       "Other                   2.562888e+09"
      ]
     },
     "execution_count": 42,
     "metadata": {},
     "output_type": "execute_result"
    }
   ],
   "source": [
    "prod_sums_other = prod_sums.drop(prod_sums.index[:10]).groupby('Year').sum()\n",
    "prod_sums_pie = prod_sums.drop(prod_sums.index[11:]).drop(columns = 'Year').rename(index={'Tomatoes': 'Other'}\n",
    "                                                                                      , columns ={'Value': 'Production, t'})\n",
    "prod_sums_pie.loc[['Other'],['Production, t']] = prod_sums_other.iloc[0,0]\n",
    "prod_sums_pie"
   ]
  },
  {
   "cell_type": "code",
   "execution_count": 43,
   "id": "f82a0a96",
   "metadata": {},
   "outputs": [
    {
     "data": {
      "text/html": [
       "<div>\n",
       "<style scoped>\n",
       "    .dataframe tbody tr th:only-of-type {\n",
       "        vertical-align: middle;\n",
       "    }\n",
       "\n",
       "    .dataframe tbody tr th {\n",
       "        vertical-align: top;\n",
       "    }\n",
       "\n",
       "    .dataframe thead th {\n",
       "        text-align: right;\n",
       "    }\n",
       "</style>\n",
       "<table border=\"1\" class=\"dataframe\">\n",
       "  <thead>\n",
       "    <tr style=\"text-align: right;\">\n",
       "      <th></th>\n",
       "      <th>Area, ha</th>\n",
       "    </tr>\n",
       "    <tr>\n",
       "      <th>Item</th>\n",
       "      <th></th>\n",
       "    </tr>\n",
       "  </thead>\n",
       "  <tbody>\n",
       "    <tr>\n",
       "      <th>Wheat</th>\n",
       "      <td>215899861.0</td>\n",
       "    </tr>\n",
       "    <tr>\n",
       "      <th>Maize</th>\n",
       "      <td>196356719.0</td>\n",
       "    </tr>\n",
       "    <tr>\n",
       "      <th>Rice, paddy</th>\n",
       "      <td>161771753.0</td>\n",
       "    </tr>\n",
       "    <tr>\n",
       "      <th>Soybeans</th>\n",
       "      <td>121533206.0</td>\n",
       "    </tr>\n",
       "    <tr>\n",
       "      <th>Barley</th>\n",
       "      <td>51018550.0</td>\n",
       "    </tr>\n",
       "    <tr>\n",
       "      <th>Sorghum</th>\n",
       "      <td>39205092.0</td>\n",
       "    </tr>\n",
       "    <tr>\n",
       "      <th>Seed cotton</th>\n",
       "      <td>36716883.0</td>\n",
       "    </tr>\n",
       "    <tr>\n",
       "      <th>Rapeseed</th>\n",
       "      <td>34290153.0</td>\n",
       "    </tr>\n",
       "    <tr>\n",
       "      <th>Beans, dry</th>\n",
       "      <td>33682529.0</td>\n",
       "    </tr>\n",
       "    <tr>\n",
       "      <th>Millet</th>\n",
       "      <td>30788819.0</td>\n",
       "    </tr>\n",
       "    <tr>\n",
       "      <th>Other</th>\n",
       "      <td>445340572.0</td>\n",
       "    </tr>\n",
       "  </tbody>\n",
       "</table>\n",
       "</div>"
      ],
      "text/plain": [
       "                Area, ha\n",
       "Item                    \n",
       "Wheat        215899861.0\n",
       "Maize        196356719.0\n",
       "Rice, paddy  161771753.0\n",
       "Soybeans     121533206.0\n",
       "Barley        51018550.0\n",
       "Sorghum       39205092.0\n",
       "Seed cotton   36716883.0\n",
       "Rapeseed      34290153.0\n",
       "Beans, dry    33682529.0\n",
       "Millet        30788819.0\n",
       "Other        445340572.0"
      ]
     },
     "execution_count": 43,
     "metadata": {},
     "output_type": "execute_result"
    }
   ],
   "source": [
    "area_sums_other = area_sums.drop(area_sums.index[:10]).groupby('Year').sum()\n",
    "area_sums_pie = area_sums.drop(area_sums.index[11:]).drop(columns = 'Year').rename(index={'Groundnuts, with shell': 'Other'}\n",
    "                                                                                      , columns ={'Value': 'Area, ha'})\n",
    "area_sums_pie.loc[['Other'],['Area, ha']] = area_sums_other.iloc[0,0]\n",
    "area_sums_pie"
   ]
  },
  {
   "cell_type": "code",
   "execution_count": 44,
   "id": "5fd819f0",
   "metadata": {},
   "outputs": [
    {
     "data": {
      "image/png": "[encoded data removed]",
      "text/plain": [
       "<Figure size 1080x2160 with 2 Axes>"
      ]
     },
     "metadata": {},
     "output_type": "display_data"
    }
   ],
   "source": [
    "plt.style.use('ggplot')\n",
    "\n",
    "explode = [0.1,0.1,0.1,0.2,0.2,0.2,0.2,0.2,0.2,0.2,0.1]\n",
    "\n",
    "fig = plt.figure(figsize = [15,30])\n",
    "\n",
    "ax = fig.add_subplot(121)\n",
    "prod_sums_pie['Production, t'].plot.pie(explode = explode,\n",
    "                                         autopct='%1.0f%%',\n",
    "                                         textprops={'fontsize': 9}) #study note: have not found a way to set different fontsize for autopct and text elements\n",
    "plt.ylabel('')\n",
    "plt.title('Global harvest by tonnage in 2019, per crop',\n",
    "          y = 1.05, size = 15)\n",
    "\n",
    "\n",
    "ax = fig.add_subplot(122)\n",
    "area_sums_pie['Area, ha'].plot.pie(explode = explode,\n",
    "                                    autopct='%1.0f%%',\n",
    "                                    textprops={'fontsize': 9})\n",
    "plt.ylabel('')\n",
    "plt.title('Areas under crops in 2019, per crop',\n",
    "          y = 1.05, size = 15)\n",
    "\n",
    "plt.show()"
   ]
  },
  {
   "cell_type": "markdown",
   "id": "34f018eb",
   "metadata": {},
   "source": [
    "Half the world's agricultural areas are seeded by 4 crops, although the list clearly does not coincide with production estimated purely by tonnage.\n",
    "\n",
    "As the primary concern is human food, the following top-7 crops will be focused: wheat, maize, rice, soybeans, barley, potatoes, cassava. Exclusion criteria:\n",
    "- potentially technical and chattel feed crops (sorghum, rapeseed, seed cotton);\n",
    "- groups ('vegetables, fresh not otherwise specified');\n",
    "- 'lifestyle' produce that doesn't take up much area (sugar cane, oil palm fruit).\n",
    "\n",
    "While maize may also be used as chattel feed, areas seeded by it are too large to discount. As for sugar cane, despite respectable harvests both tonnage wise and, as hinted by Google, calorie-wise, a crop with 0 protein and fat contents (at least after refinement) is not exactly a wholesome food source in terms of human nutrition."
   ]
  },
  {
   "cell_type": "code",
   "execution_count": 45,
   "id": "44c22c32",
   "metadata": {},
   "outputs": [],
   "source": [
    "livestock_world = livestock_data[livestock_data['Area'] == 'World'].copy()\n",
    "livestock_sums = livestock_world[livestock_world['Year'] == 2019].groupby('Item').sum().sort_values(by = 'Value', ascending = False)\n",
    "\n",
    "livestock_sums_other = livestock_sums.drop(livestock_sums.index[:5]).groupby('Year').sum()\n",
    "\n",
    "livestock_sums_pie = livestock_sums.drop(livestock_sums.index[6:]).drop(columns = 'Year').rename(index={'Pigs': 'Other'}\n",
    "                                                                                      , columns ={'Value': 'Heads'})\n",
    "livestock_sums_pie.loc[['Other'],['Heads']] = livestock_sums_other.iloc[0,0]"
   ]
  },
  {
   "cell_type": "code",
   "execution_count": 46,
   "id": "f94c1804",
   "metadata": {},
   "outputs": [
    {
     "data": {
      "image/png": "[encoded data removed]",
      "text/plain": [
       "<Figure size 1080x1080 with 1 Axes>"
      ]
     },
     "metadata": {},
     "output_type": "display_data"
    }
   ],
   "source": [
    "explode = [0, 0.2, 0.2, 0.2, 0.2, 0.2]\n",
    "\n",
    "livestock_sums_pie['Heads'].plot.pie(explode = explode\n",
    "                                 ,autopct='%1.0f%%'\n",
    "                                 ,textprops={'fontsize': 12}, figsize = [15,15])\n",
    "plt.ylabel('')\n",
    "plt.title('Livestock by headcount, 2019',\n",
    "          y = 0.95, size = 20)\n",
    "\n",
    "plt.show()"
   ]
  },
  {
   "cell_type": "markdown",
   "id": "443d9f1a",
   "metadata": {},
   "source": [
    "Example of misleading statistics above. By biomass, cattle (cows and similar) are 10 times more widespread than chicken, even more so if feed (and, hence, grazing area) requirements are taken into account. Sheep and goats most likely follow. Exploring livestock data requires domain knowledge and/or extra information, the present project will likely focus on crops."
   ]
  },
  {
   "cell_type": "code",
   "execution_count": 47,
   "id": "af9e58aa",
   "metadata": {
    "scrolled": true
   },
   "outputs": [
    {
     "data": {
      "text/html": [
       "<div>\n",
       "<style scoped>\n",
       "    .dataframe tbody tr th:only-of-type {\n",
       "        vertical-align: middle;\n",
       "    }\n",
       "\n",
       "    .dataframe tbody tr th {\n",
       "        vertical-align: top;\n",
       "    }\n",
       "\n",
       "    .dataframe thead tr th {\n",
       "        text-align: left;\n",
       "    }\n",
       "\n",
       "    .dataframe thead tr:last-of-type th {\n",
       "        text-align: right;\n",
       "    }\n",
       "</style>\n",
       "<table border=\"1\" class=\"dataframe\">\n",
       "  <thead>\n",
       "    <tr>\n",
       "      <th></th>\n",
       "      <th colspan=\"8\" halign=\"left\">Value</th>\n",
       "    </tr>\n",
       "    <tr>\n",
       "      <th></th>\n",
       "      <th>count</th>\n",
       "      <th>mean</th>\n",
       "      <th>std</th>\n",
       "      <th>min</th>\n",
       "      <th>25%</th>\n",
       "      <th>50%</th>\n",
       "      <th>75%</th>\n",
       "      <th>max</th>\n",
       "    </tr>\n",
       "    <tr>\n",
       "      <th>Item</th>\n",
       "      <th></th>\n",
       "      <th></th>\n",
       "      <th></th>\n",
       "      <th></th>\n",
       "      <th></th>\n",
       "      <th></th>\n",
       "      <th></th>\n",
       "      <th></th>\n",
       "    </tr>\n",
       "  </thead>\n",
       "  <tbody>\n",
       "    <tr>\n",
       "      <th>Barley</th>\n",
       "      <td>102.0</td>\n",
       "      <td>3.363875</td>\n",
       "      <td>1.994765</td>\n",
       "      <td>0.2731</td>\n",
       "      <td>1.940475</td>\n",
       "      <td>2.95480</td>\n",
       "      <td>4.236825</td>\n",
       "      <td>10.3809</td>\n",
       "    </tr>\n",
       "    <tr>\n",
       "      <th>Cassava</th>\n",
       "      <td>94.0</td>\n",
       "      <td>12.576353</td>\n",
       "      <td>8.320067</td>\n",
       "      <td>1.0217</td>\n",
       "      <td>6.295275</td>\n",
       "      <td>10.78730</td>\n",
       "      <td>16.343300</td>\n",
       "      <td>45.0942</td>\n",
       "    </tr>\n",
       "    <tr>\n",
       "      <th>Maize</th>\n",
       "      <td>166.0</td>\n",
       "      <td>5.001214</td>\n",
       "      <td>4.786985</td>\n",
       "      <td>0.0232</td>\n",
       "      <td>1.690075</td>\n",
       "      <td>3.83975</td>\n",
       "      <td>7.143650</td>\n",
       "      <td>30.1671</td>\n",
       "    </tr>\n",
       "    <tr>\n",
       "      <th>Potatoes</th>\n",
       "      <td>156.0</td>\n",
       "      <td>20.969876</td>\n",
       "      <td>10.699990</td>\n",
       "      <td>0.3830</td>\n",
       "      <td>13.912700</td>\n",
       "      <td>19.45325</td>\n",
       "      <td>27.843725</td>\n",
       "      <td>50.7522</td>\n",
       "    </tr>\n",
       "    <tr>\n",
       "      <th>Rice, paddy</th>\n",
       "      <td>117.0</td>\n",
       "      <td>4.066794</td>\n",
       "      <td>2.203489</td>\n",
       "      <td>0.2875</td>\n",
       "      <td>2.490600</td>\n",
       "      <td>3.83200</td>\n",
       "      <td>5.750900</td>\n",
       "      <td>8.7710</td>\n",
       "    </tr>\n",
       "    <tr>\n",
       "      <th>Soybeans</th>\n",
       "      <td>99.0</td>\n",
       "      <td>1.843000</td>\n",
       "      <td>0.909629</td>\n",
       "      <td>0.3387</td>\n",
       "      <td>1.174350</td>\n",
       "      <td>1.70410</td>\n",
       "      <td>2.556950</td>\n",
       "      <td>4.2499</td>\n",
       "    </tr>\n",
       "    <tr>\n",
       "      <th>Wheat</th>\n",
       "      <td>124.0</td>\n",
       "      <td>3.395573</td>\n",
       "      <td>2.197927</td>\n",
       "      <td>0.3982</td>\n",
       "      <td>1.860350</td>\n",
       "      <td>2.81630</td>\n",
       "      <td>4.674175</td>\n",
       "      <td>9.5000</td>\n",
       "    </tr>\n",
       "  </tbody>\n",
       "</table>\n",
       "</div>"
      ],
      "text/plain": [
       "             Value                                                     \\\n",
       "             count       mean        std     min        25%       50%   \n",
       "Item                                                                    \n",
       "Barley       102.0   3.363875   1.994765  0.2731   1.940475   2.95480   \n",
       "Cassava       94.0  12.576353   8.320067  1.0217   6.295275  10.78730   \n",
       "Maize        166.0   5.001214   4.786985  0.0232   1.690075   3.83975   \n",
       "Potatoes     156.0  20.969876  10.699990  0.3830  13.912700  19.45325   \n",
       "Rice, paddy  117.0   4.066794   2.203489  0.2875   2.490600   3.83200   \n",
       "Soybeans      99.0   1.843000   0.909629  0.3387   1.174350   1.70410   \n",
       "Wheat        124.0   3.395573   2.197927  0.3982   1.860350   2.81630   \n",
       "\n",
       "                                 \n",
       "                   75%      max  \n",
       "Item                             \n",
       "Barley        4.236825  10.3809  \n",
       "Cassava      16.343300  45.0942  \n",
       "Maize         7.143650  30.1671  \n",
       "Potatoes     27.843725  50.7522  \n",
       "Rice, paddy   5.750900   8.7710  \n",
       "Soybeans      2.556950   4.2499  \n",
       "Wheat         4.674175   9.5000  "
      ]
     },
     "execution_count": 47,
     "metadata": {},
     "output_type": "execute_result"
    }
   ],
   "source": [
    "top_7_list = ['Wheat', 'Maize', 'Rice, paddy', 'Soybeans', 'Barley', 'Potatoes', 'Cassava']\n",
    "top_7_2019_yield = crop_data_countries[(crop_data_countries['Year'] == 2019)\n",
    "                                       & (crop_data_countries['Item'].isin(top_7_list))\n",
    "                                       & (crop_data_countries['Element'] == 'Yield')].drop(columns = ['Year', 'Element', 'Unit']).sort_values(by = 'Item')\n",
    "\n",
    "#replacing with tons per hectar for readability, replacing values and units in a loop across the entire dataset\n",
    "#took to long to run\n",
    "top_7_2019_yield['Value'] = top_7_2019_yield['Value']/10000 \n",
    "\n",
    "top_7_2019_yield_g = top_7_2019_yield.groupby(by = 'Item')\n",
    "top_7_2019_yield_g.describe()\n",
    "\n",
    "#yields per country"
   ]
  },
  {
   "cell_type": "code",
   "execution_count": 48,
   "id": "5dfab357",
   "metadata": {},
   "outputs": [
    {
     "data": {
      "text/html": [
       "<div>\n",
       "<style scoped>\n",
       "    .dataframe tbody tr th:only-of-type {\n",
       "        vertical-align: middle;\n",
       "    }\n",
       "\n",
       "    .dataframe tbody tr th {\n",
       "        vertical-align: top;\n",
       "    }\n",
       "\n",
       "    .dataframe thead tr th {\n",
       "        text-align: left;\n",
       "    }\n",
       "\n",
       "    .dataframe thead tr:last-of-type th {\n",
       "        text-align: right;\n",
       "    }\n",
       "</style>\n",
       "<table border=\"1\" class=\"dataframe\">\n",
       "  <thead>\n",
       "    <tr>\n",
       "      <th></th>\n",
       "      <th colspan=\"8\" halign=\"left\">Value</th>\n",
       "    </tr>\n",
       "    <tr>\n",
       "      <th></th>\n",
       "      <th>count</th>\n",
       "      <th>mean</th>\n",
       "      <th>std</th>\n",
       "      <th>min</th>\n",
       "      <th>25%</th>\n",
       "      <th>50%</th>\n",
       "      <th>75%</th>\n",
       "      <th>max</th>\n",
       "    </tr>\n",
       "    <tr>\n",
       "      <th>Item</th>\n",
       "      <th></th>\n",
       "      <th></th>\n",
       "      <th></th>\n",
       "      <th></th>\n",
       "      <th></th>\n",
       "      <th></th>\n",
       "      <th></th>\n",
       "      <th></th>\n",
       "    </tr>\n",
       "  </thead>\n",
       "  <tbody>\n",
       "    <tr>\n",
       "      <th>Barley</th>\n",
       "      <td>10.0</td>\n",
       "      <td>3.919680</td>\n",
       "      <td>1.653542</td>\n",
       "      <td>2.4001</td>\n",
       "      <td>2.729050</td>\n",
       "      <td>3.52480</td>\n",
       "      <td>4.039150</td>\n",
       "      <td>6.9774</td>\n",
       "    </tr>\n",
       "    <tr>\n",
       "      <th>Cassava</th>\n",
       "      <td>4.0</td>\n",
       "      <td>18.636800</td>\n",
       "      <td>8.051322</td>\n",
       "      <td>12.9238</td>\n",
       "      <td>14.273575</td>\n",
       "      <td>15.54790</td>\n",
       "      <td>19.911125</td>\n",
       "      <td>30.5276</td>\n",
       "    </tr>\n",
       "    <tr>\n",
       "      <th>Maize</th>\n",
       "      <td>10.0</td>\n",
       "      <td>6.485880</td>\n",
       "      <td>2.737527</td>\n",
       "      <td>2.6774</td>\n",
       "      <td>4.476950</td>\n",
       "      <td>6.04535</td>\n",
       "      <td>8.739375</td>\n",
       "      <td>10.5104</td>\n",
       "    </tr>\n",
       "    <tr>\n",
       "      <th>Potatoes</th>\n",
       "      <td>10.0</td>\n",
       "      <td>32.067130</td>\n",
       "      <td>10.317677</td>\n",
       "      <td>17.8228</td>\n",
       "      <td>24.953875</td>\n",
       "      <td>32.00535</td>\n",
       "      <td>38.121225</td>\n",
       "      <td>50.7522</td>\n",
       "    </tr>\n",
       "    <tr>\n",
       "      <th>Rice, paddy</th>\n",
       "      <td>9.0</td>\n",
       "      <td>6.469378</td>\n",
       "      <td>1.324459</td>\n",
       "      <td>4.0577</td>\n",
       "      <td>5.761500</td>\n",
       "      <td>6.36630</td>\n",
       "      <td>7.161200</td>\n",
       "      <td>8.3759</td>\n",
       "    </tr>\n",
       "    <tr>\n",
       "      <th>Soybeans</th>\n",
       "      <td>10.0</td>\n",
       "      <td>2.397070</td>\n",
       "      <td>0.985613</td>\n",
       "      <td>1.1919</td>\n",
       "      <td>1.577975</td>\n",
       "      <td>2.28120</td>\n",
       "      <td>3.116025</td>\n",
       "      <td>4.2499</td>\n",
       "    </tr>\n",
       "    <tr>\n",
       "      <th>Wheat</th>\n",
       "      <td>10.0</td>\n",
       "      <td>4.634910</td>\n",
       "      <td>1.908776</td>\n",
       "      <td>2.6578</td>\n",
       "      <td>2.954475</td>\n",
       "      <td>4.21710</td>\n",
       "      <td>5.605050</td>\n",
       "      <td>7.7428</td>\n",
       "    </tr>\n",
       "  </tbody>\n",
       "</table>\n",
       "</div>"
      ],
      "text/plain": [
       "            Value                                                      \\\n",
       "            count       mean        std      min        25%       50%   \n",
       "Item                                                                    \n",
       "Barley       10.0   3.919680   1.653542   2.4001   2.729050   3.52480   \n",
       "Cassava       4.0  18.636800   8.051322  12.9238  14.273575  15.54790   \n",
       "Maize        10.0   6.485880   2.737527   2.6774   4.476950   6.04535   \n",
       "Potatoes     10.0  32.067130  10.317677  17.8228  24.953875  32.00535   \n",
       "Rice, paddy   9.0   6.469378   1.324459   4.0577   5.761500   6.36630   \n",
       "Soybeans     10.0   2.397070   0.985613   1.1919   1.577975   2.28120   \n",
       "Wheat        10.0   4.634910   1.908776   2.6578   2.954475   4.21710   \n",
       "\n",
       "                                 \n",
       "                   75%      max  \n",
       "Item                             \n",
       "Barley        4.039150   6.9774  \n",
       "Cassava      19.911125  30.5276  \n",
       "Maize         8.739375  10.5104  \n",
       "Potatoes     38.121225  50.7522  \n",
       "Rice, paddy   7.161200   8.3759  \n",
       "Soybeans      3.116025   4.2499  \n",
       "Wheat         5.605050   7.7428  "
      ]
     },
     "execution_count": 48,
     "metadata": {},
     "output_type": "execute_result"
    }
   ],
   "source": [
    "top_7_2019_yield_p = top_7_2019_yield[top_7_2019_yield['Area'].isin(primaries)]\n",
    "top_7_2019_yield_p.groupby(by = 'Item').describe()\n",
    "\n",
    "#yields per country from top 10 agroproducers list"
   ]
  },
  {
   "cell_type": "code",
   "execution_count": 49,
   "id": "e8a1d3d1",
   "metadata": {},
   "outputs": [
    {
     "data": {
      "text/html": [
       "<div>\n",
       "<style scoped>\n",
       "    .dataframe tbody tr th:only-of-type {\n",
       "        vertical-align: middle;\n",
       "    }\n",
       "\n",
       "    .dataframe tbody tr th {\n",
       "        vertical-align: top;\n",
       "    }\n",
       "\n",
       "    .dataframe thead th {\n",
       "        text-align: right;\n",
       "    }\n",
       "</style>\n",
       "<table border=\"1\" class=\"dataframe\">\n",
       "  <thead>\n",
       "    <tr style=\"text-align: right;\">\n",
       "      <th></th>\n",
       "      <th>Item</th>\n",
       "      <th>Value</th>\n",
       "    </tr>\n",
       "  </thead>\n",
       "  <tbody>\n",
       "    <tr>\n",
       "      <th>1368192</th>\n",
       "      <td>Barley</td>\n",
       "      <td>3.1060</td>\n",
       "    </tr>\n",
       "    <tr>\n",
       "      <th>1369992</th>\n",
       "      <td>Cassava</td>\n",
       "      <td>10.5449</td>\n",
       "    </tr>\n",
       "    <tr>\n",
       "      <th>1376823</th>\n",
       "      <td>Maize</td>\n",
       "      <td>5.8127</td>\n",
       "    </tr>\n",
       "    <tr>\n",
       "      <th>1381323</th>\n",
       "      <td>Potatoes</td>\n",
       "      <td>21.5353</td>\n",
       "    </tr>\n",
       "    <tr>\n",
       "      <th>1382403</th>\n",
       "      <td>Rice, paddy</td>\n",
       "      <td>4.6312</td>\n",
       "    </tr>\n",
       "    <tr>\n",
       "      <th>1384023</th>\n",
       "      <td>Soybeans</td>\n",
       "      <td>2.7674</td>\n",
       "    </tr>\n",
       "    <tr>\n",
       "      <th>1387765</th>\n",
       "      <td>Wheat</td>\n",
       "      <td>3.5432</td>\n",
       "    </tr>\n",
       "  </tbody>\n",
       "</table>\n",
       "</div>"
      ],
      "text/plain": [
       "                Item    Value\n",
       "1368192       Barley   3.1060\n",
       "1369992      Cassava  10.5449\n",
       "1376823        Maize   5.8127\n",
       "1381323     Potatoes  21.5353\n",
       "1382403  Rice, paddy   4.6312\n",
       "1384023     Soybeans   2.7674\n",
       "1387765        Wheat   3.5432"
      ]
     },
     "execution_count": 49,
     "metadata": {},
     "output_type": "execute_result"
    }
   ],
   "source": [
    "top_7_2019_world_yield = crop_world[(crop_world['Year'] == 2019)\n",
    "                                   & (crop_world['Item'].isin(top_7_list))\n",
    "                                   & (crop_world['Element'] == 'Yield')].drop(columns = ['Area','Year','Element','Unit'])\n",
    "top_7_2019_world_yield['Value'] = top_7_2019_world_yield['Value']/10000\n",
    "top_7_2019_world_yield\n",
    "\n",
    "#global average weighted yield"
   ]
  },
  {
   "cell_type": "code",
   "execution_count": 70,
   "id": "8af09b68",
   "metadata": {},
   "outputs": [
    {
     "data": {
      "image/png": "[encoded data removed]",
      "text/plain": [
       "<Figure size 1080x720 with 1 Axes>"
      ]
     },
     "metadata": {},
     "output_type": "display_data"
    },
    {
     "name": "stdout",
     "output_type": "stream",
     "text": [
      "\n",
      " \n",
      "\n"
     ]
    },
    {
     "data": {
      "image/png": "[encoded data removed]",
      "text/plain": [
       "<Figure size 1080x720 with 1 Axes>"
      ]
     },
     "metadata": {},
     "output_type": "display_data"
    }
   ],
   "source": [
    "plt.figure(figsize = [15,10])\n",
    "sns.boxplot(x = 'Item', y = 'Value', data = top_7_2019_yield)\n",
    "\n",
    "plt.xlabel('')\n",
    "plt.ylabel('Yield, t/ha')\n",
    "plt.title('Distribution of primary crop yields per country, 2019', size = 20, y = 1.05)\n",
    "\n",
    "plt.show()\n",
    "\n",
    "print('\\n','\\n')\n",
    "\n",
    "plt.figure(figsize = [15,10])\n",
    "sns.boxplot(x = 'Item', y = 'Value', data = top_7_2019_yield_p)\n",
    "\n",
    "plt.xlabel('')\n",
    "plt.ylabel('Yield, t/ha')\n",
    "plt.title('Distribution of primary crop yields among top 10 agroproducing countries, 2019', size = 20, y = 1.05)\n",
    "\n",
    "plt.show()"
   ]
  },
  {
   "cell_type": "markdown",
   "id": "43ebec93",
   "metadata": {},
   "source": [
    "Takeaways:\n",
    "1. Heavily right-skewed distributions with values gravitating to slightly below the mean, implying that most of the world produces at, very roughly, similar effectiveness (give or take seasonal fluctuations and technology levels), with some areas being extremely productive and skewing variation coefficient all the way up to 60%.\n",
    "2. Top 10 agroproducing countries demonstrate higher yields and less deviations between them, although they are rarely the super-yield countries.\n",
    "3. Global yields, with the exception of barley and cassava, are slightly higher than means of per-country yields, implying that countries with higher yields tend to focus more on agriculture (or happen to be larger)."
   ]
  },
  {
   "cell_type": "code",
   "execution_count": 51,
   "id": "9a667f8b",
   "metadata": {},
   "outputs": [
    {
     "name": "stdout",
     "output_type": "stream",
     "text": [
      "In 2019 a total of 2.68 percent of world land was used for agriculture.\n",
      "Given a purely hypothetical scenario of seeding all those areas with potatoes and achieving maximum observed yield,\n",
      "at a 2400 cal diet those areas could sustain roughly 55 billion people.\n",
      "Since 1900, forest area lost is estimated at 80.49 percent of 2019 agriculture area.\n"
     ]
    }
   ],
   "source": [
    "area_2019 = crop_world[(crop_world['Year'] == 2019) & (crop_world['Element'] == 'Area harvested')]['Value'].sum()\n",
    "\n",
    "print('''In 2019 a total of %.2f percent of world land was used for agriculture.\n",
    "Given a purely hypothetical scenario of seeding all those areas with potatoes and achieving maximum observed yield,\n",
    "at a 2400 cal diet those areas could sustain roughly %.0f billion people.\n",
    "Since 1900, forest area lost is estimated at %.2f percent of 2019 agriculture area.'''\n",
    "      %(area_2019*100/51010000000, area_2019*40/1000000000, 1100000000*100/area_2019))"
   ]
  },
  {
   "cell_type": "markdown",
   "id": "c522061e",
   "metadata": {},
   "source": [
    "[World Economic Forum data](https://www.weforum.org/agenda/2022/04/forests-ice-age) was used for forest area above. Given the ratio, and considering that grazing areas for livestock have not been accounted for (although some overlap is to be expected), deforestation trends may indeed be worth investigating further (in a separate project)."
   ]
  },
  {
   "cell_type": "code",
   "execution_count": 52,
   "id": "d2ffcad8",
   "metadata": {},
   "outputs": [],
   "source": [
    "top_7_2019_area = crop_data_countries[(crop_data_countries['Year'] == 2019)\n",
    "                                       & (crop_data_countries['Item'].isin(top_7_list))\n",
    "                                       & (crop_data_countries['Element'] == 'Area harvested')].drop(columns = ['Year', 'Element', 'Unit']).rename(columns = {'Value':'A_Value'})"
   ]
  },
  {
   "cell_type": "code",
   "execution_count": 53,
   "id": "1617dc0d",
   "metadata": {},
   "outputs": [],
   "source": [
    "top_7_2019_both = pd.merge(top_7_2019_area, top_7_2019_yield, left_on = ['Area', 'Item'], right_on = ['Area', 'Item'], how = 'inner')"
   ]
  },
  {
   "cell_type": "code",
   "execution_count": 54,
   "id": "01ce771e",
   "metadata": {},
   "outputs": [
    {
     "data": {
      "text/plain": [
       "Area   Item   A_Value  Value\n",
       "False  False  False    False    858\n",
       "dtype: int64"
      ]
     },
     "execution_count": 54,
     "metadata": {},
     "output_type": "execute_result"
    }
   ],
   "source": [
    "top_7_2019_both.isnull().value_counts()"
   ]
  },
  {
   "cell_type": "code",
   "execution_count": 55,
   "id": "a46ebffe",
   "metadata": {},
   "outputs": [
    {
     "data": {
      "text/html": [
       "<div>\n",
       "<style scoped>\n",
       "    .dataframe tbody tr th:only-of-type {\n",
       "        vertical-align: middle;\n",
       "    }\n",
       "\n",
       "    .dataframe tbody tr th {\n",
       "        vertical-align: top;\n",
       "    }\n",
       "\n",
       "    .dataframe thead th {\n",
       "        text-align: right;\n",
       "    }\n",
       "</style>\n",
       "<table border=\"1\" class=\"dataframe\">\n",
       "  <thead>\n",
       "    <tr style=\"text-align: right;\">\n",
       "      <th></th>\n",
       "      <th>Item</th>\n",
       "      <th>Area, ha</th>\n",
       "      <th>Yield, t/ha</th>\n",
       "    </tr>\n",
       "  </thead>\n",
       "  <tbody>\n",
       "    <tr>\n",
       "      <th>403</th>\n",
       "      <td>Rice, paddy</td>\n",
       "      <td>1470000.0</td>\n",
       "      <td>7.1612</td>\n",
       "    </tr>\n",
       "    <tr>\n",
       "      <th>208</th>\n",
       "      <td>Maize</td>\n",
       "      <td>128265.0</td>\n",
       "      <td>2.3935</td>\n",
       "    </tr>\n",
       "    <tr>\n",
       "      <th>449</th>\n",
       "      <td>Cassava</td>\n",
       "      <td>69345.0</td>\n",
       "      <td>8.3820</td>\n",
       "    </tr>\n",
       "    <tr>\n",
       "      <th>427</th>\n",
       "      <td>Barley</td>\n",
       "      <td>205071.0</td>\n",
       "      <td>2.2717</td>\n",
       "    </tr>\n",
       "    <tr>\n",
       "      <th>209</th>\n",
       "      <td>Potatoes</td>\n",
       "      <td>6319.0</td>\n",
       "      <td>20.4937</td>\n",
       "    </tr>\n",
       "  </tbody>\n",
       "</table>\n",
       "</div>"
      ],
      "text/plain": [
       "            Item   Area, ha  Yield, t/ha\n",
       "403  Rice, paddy  1470000.0       7.1612\n",
       "208        Maize   128265.0       2.3935\n",
       "449      Cassava    69345.0       8.3820\n",
       "427       Barley   205071.0       2.2717\n",
       "209     Potatoes     6319.0      20.4937"
      ]
     },
     "execution_count": 55,
     "metadata": {},
     "output_type": "execute_result"
    },
    {
     "data": {
      "text/plain": [
       "<Figure size 432x288 with 0 Axes>"
      ]
     },
     "metadata": {},
     "output_type": "display_data"
    }
   ],
   "source": [
    "figure = plt.figure() #study note: running it here prevents displaying an empty figure after the next code block\n",
    "\n",
    "top_7_2019_both_heat = top_7_2019_both.drop(columns = ['Area']).rename(columns = {'Value': 'Yield, t/ha', 'A_Value':'Area, ha'})\n",
    "top_7_2019_both_heat.sample(5)"
   ]
  },
  {
   "cell_type": "code",
   "execution_count": 56,
   "id": "6e61f69f",
   "metadata": {},
   "outputs": [
    {
     "data": {
      "image/png": "[encoded data removed]",
      "text/plain": [
       "<Figure size 360x360 with 1 Axes>"
      ]
     },
     "metadata": {},
     "output_type": "display_data"
    },
    {
     "data": {
      "image/png": "[encoded data removed]",
      "text/plain": [
       "<Figure size 360x360 with 1 Axes>"
      ]
     },
     "metadata": {},
     "output_type": "display_data"
    },
    {
     "data": {
      "image/png": "[encoded data removed]",
      "text/plain": [
       "<Figure size 360x360 with 1 Axes>"
      ]
     },
     "metadata": {},
     "output_type": "display_data"
    },
    {
     "data": {
      "image/png": "[encoded data removed]",
      "text/plain": [
       "<Figure size 360x360 with 1 Axes>"
      ]
     },
     "metadata": {},
     "output_type": "display_data"
    },
    {
     "data": {
      "image/png": "[encoded data removed]",
      "text/plain": [
       "<Figure size 360x360 with 1 Axes>"
      ]
     },
     "metadata": {},
     "output_type": "display_data"
    },
    {
     "data": {
      "image/png": "[encoded data removed]",
      "text/plain": [
       "<Figure size 360x360 with 1 Axes>"
      ]
     },
     "metadata": {},
     "output_type": "display_data"
    },
    {
     "data": {
      "image/png": "[encoded data removed]",
      "text/plain": [
       "<Figure size 360x360 with 1 Axes>"
      ]
     },
     "metadata": {},
     "output_type": "display_data"
    }
   ],
   "source": [
    "#study note: failed at trying to auto-arrange plots in a 3x3,\n",
    "#approached by using 'for i, smth in zip(i-smth, metasmth)...add_subplot(331+i)' in various forms\n",
    "\n",
    "for crop in top_7_list:\n",
    "    ax = figure.add_subplot()\n",
    "    data = top_7_2019_both_heat[top_7_2019_both_heat['Item'] == crop]\n",
    "    sns.relplot(x = data['Area, ha'], y = data['Yield, t/ha'])\n",
    "    plt.title(crop)\n",
    "    plt.ticklabel_format(style = 'plain')\n",
    "    plt.xticks(rotation = 30)\n",
    "    \n",
    "plt.show()"
   ]
  },
  {
   "cell_type": "code",
   "execution_count": 57,
   "id": "9e1c9b5d",
   "metadata": {},
   "outputs": [
    {
     "name": "stdout",
     "output_type": "stream",
     "text": [
      "0 14 119 511\n"
     ]
    }
   ],
   "source": [
    "print(len(top_7_2019_both_heat[top_7_2019_both_heat['Area, ha'] == 0]['Area, ha']),\n",
    "      len(top_7_2019_both_heat[top_7_2019_both_heat['Area, ha'] <= 10]['Area, ha']),\n",
    "      len(top_7_2019_both_heat[top_7_2019_both_heat['Area, ha'] <= 1000]['Area, ha']),\n",
    "      len(top_7_2019_both_heat[top_7_2019_both_heat['Area, ha'] <= 100000]['Area, ha']))"
   ]
  },
  {
   "cell_type": "code",
   "execution_count": 58,
   "id": "0581e0b3",
   "metadata": {},
   "outputs": [
    {
     "name": "stdout",
     "output_type": "stream",
     "text": [
      "Wheat \n",
      "              Area, ha  Yield, t/ha\n",
      "Area, ha     1.000000     0.061463\n",
      "Yield, t/ha  0.061463     1.000000 \n",
      "\n",
      "Maize \n",
      "              Area, ha  Yield, t/ha\n",
      "Area, ha     1.000000     0.049937\n",
      "Yield, t/ha  0.049937     1.000000 \n",
      "\n",
      "Rice, paddy \n",
      "              Area, ha  Yield, t/ha\n",
      "Area, ha     1.000000     0.121712\n",
      "Yield, t/ha  0.121712     1.000000 \n",
      "\n",
      "Soybeans \n",
      "              Area, ha  Yield, t/ha\n",
      "Area, ha     1.000000     0.244881\n",
      "Yield, t/ha  0.244881     1.000000 \n",
      "\n",
      "Barley \n",
      "              Area, ha  Yield, t/ha\n",
      "Area, ha     1.000000    -0.057491\n",
      "Yield, t/ha -0.057491     1.000000 \n",
      "\n",
      "Potatoes \n",
      "              Area, ha  Yield, t/ha\n",
      "Area, ha     1.000000     0.000335\n",
      "Yield, t/ha  0.000335     1.000000 \n",
      "\n",
      "Cassava \n",
      "              Area, ha  Yield, t/ha\n",
      "Area, ha     1.000000    -0.076225\n",
      "Yield, t/ha -0.076225     1.000000 \n",
      "\n"
     ]
    }
   ],
   "source": [
    "for crop in top_7_list:\n",
    "    data = top_7_2019_both_heat[top_7_2019_both_heat['Item'] == crop]\n",
    "    print(crop,'\\n',data.corr(),'\\n')"
   ]
  },
  {
   "cell_type": "markdown",
   "id": "9077bede",
   "metadata": {},
   "source": [
    "Fairly interesting results for the 7 primary crops. None of the values clustered towards the left of the graph are 0, most are simply fairly small in industrial terms. Most countries grow less than 100 000 ha per one of the primary crops; 100 000 ha is roughly the area of Berlin, which is considerable, especially for a small country, but industry-wise in post-Soviet countries that's only around 20 moderate farms.\n",
    "\n",
    "To briefly summarize:\n",
    "1. There is no noticeable correlation between harvested areas and yield. Apparently, countries that produce more simply have more territory in general and can spare it for agriculture, and/or prioritise cost efficiency instead of output (for the same reason of having enough territory to spare).\n",
    "2. There's a huge discrepancy in seeded areas between top results and the rest, which is to be expected given the discrepancy of country areas. For instance, Finland, being a mid-sized country, is roughly 20-40 times smaller than any country from the top 10 agricultural producers list.\n",
    "2. Unlike other crops on the list, rice and soybeans are seeded in large amounts only by a handful of countries.\n",
    "3. Cassava and barley demonstrate below average yields in countries with largest seeded areas, while soybeans are above average.\n",
    "\n",
    "On a separate note, based on the summary above the idea of comparing regional groupings defined in the dataset is dropped at this point, as a single top 10 country being present in the region may significantly skew any aggregate statistics; a precise pre-defined problem statement would be required for proper analysis."
   ]
  },
  {
   "cell_type": "markdown",
   "id": "aa0541e8",
   "metadata": {},
   "source": [
    "# V. Identifying trends in data\n",
    "\n",
    "Getting back to the outline of the project, a goal that will be focused in this part is, in layman's terms, determining if the prospects are gloom - more specifically, whether humanity can feed the quickly growing population numbers without having to constantly expand farmable areas.\n",
    "\n",
    "Sub-goals:\n",
    "1. Identifying yield growth rates (for selected primary crops as a proxie) over time and comparing them to population growth rates.\n",
    "2. Identifying farmable area growth rates over time.\n",
    "3. Goal added to fulfill study project requirements: testing the hypothesis that seeded area growth rates exceed the difference between population growth rate and yield growth rates for primary crops."
   ]
  },
  {
   "cell_type": "code",
   "execution_count": 59,
   "id": "dcaea38d",
   "metadata": {},
   "outputs": [],
   "source": [
    "top_7_alltime_yield = crop_data_countries[(crop_data_countries['Item'].isin(top_7_list))\n",
    "                                       & (crop_data_countries['Element'] == 'Yield')].drop(columns = ['Unit', 'Element'])\n",
    "\n",
    "top_7_alltime_yield['Value'] = top_7_alltime_yield['Value']/10000"
   ]
  },
  {
   "cell_type": "code",
   "execution_count": 60,
   "id": "0e765966",
   "metadata": {},
   "outputs": [
    {
     "data": {
      "image/png": "[encoded data removed]",
      "text/plain": [
       "<Figure size 1080x720 with 1 Axes>"
      ]
     },
     "metadata": {},
     "output_type": "display_data"
    }
   ],
   "source": [
    "endyield = {} #collecting total yield growths here while transforming data for plots\n",
    "\n",
    "plt.figure(figsize = [15,10])\n",
    "for crop in top_7_list:\n",
    "    data = top_7_alltime_yield[top_7_alltime_yield['Item'] == crop].groupby('Year').mean().sort_values(by = 'Year')\n",
    "    normalizer = data.iloc[0].copy() #note to self:without copy any changes to original dataframe overwrite the variable\n",
    "    for i in range(len(data)):\n",
    "        data.iloc[i] = ((data.iloc[i]/normalizer)-1)*100 #transforming into % growth\n",
    "    endyield[crop] = data.iloc[len(data)-1,0]\n",
    "    plt.plot(data,label = crop)\n",
    "\n",
    "pop_data_world = pop_data[pop_data['Country Name'] == 'World'].drop(columns = ['Country Name', 'Country Code']).transpose(copy = True)\n",
    "#dataframe was transposed to move years in column names to rows, then change them from strings to match crop graph data\n",
    "pop_data_world.index = pop_data_world.index.astype(float)\n",
    "normalizer = pop_data_world.iloc[0].copy()\n",
    "for i in range(len(pop_data_world)):\n",
    "    pop_data_world.iloc[i] = ((pop_data_world.iloc[i]/normalizer)-1)*100\n",
    "plt.plot(pop_data_world, label = 'World population', linestyle = 'dashdot', alpha = 0.3, color = 'black')\n",
    "    \n",
    "plt.title('Yield growth for top 7 crops\\n (average across countries, as percentage difference to 1961 yield)', size = 20)\n",
    "plt.ylim(bottom = -10)\n",
    "plt.xlim(left = 1960, right = 2020)\n",
    "plt.xlabel('')\n",
    "plt.xticks(rotation = 45)\n",
    "plt.legend(loc = 'best',prop = {'size':15})\n",
    "\n",
    "plt.show()"
   ]
  },
  {
   "cell_type": "code",
   "execution_count": 61,
   "id": "487bf5ee",
   "metadata": {},
   "outputs": [
    {
     "name": "stdout",
     "output_type": "stream",
     "text": [
      "Over 60 years average crop yields grew by:\n",
      "144.4% for wheat\n",
      "242.4% for maize\n",
      "90.5% for rice\n",
      "114.6% for soybeans\n",
      "129.4% for barley\n",
      "118.5% for potatoes\n",
      "57.6% for cassava\n"
     ]
    }
   ],
   "source": [
    "print('''Over 60 years average crop yields grew by:\n",
    "%.1f%% for wheat\n",
    "%.1f%% for maize\n",
    "%.1f%% for rice\n",
    "%.1f%% for soybeans\n",
    "%.1f%% for barley\n",
    "%.1f%% for potatoes\n",
    "%.1f%% for cassava''' %(endyield['Wheat'], endyield['Maize'],\n",
    "      endyield['Rice, paddy'], endyield['Soybeans'], endyield['Barley'],\n",
    "      endyield['Potatoes'], endyield['Cassava']))"
   ]
  },
  {
   "cell_type": "markdown",
   "id": "262b3feb",
   "metadata": {},
   "source": [
    "It should be noted that graph above uses averages of country yields, rather than the average yield across the world. Takeaways:\n",
    "- population demonstrates very steady and slightly increasing growth rate (in absolute numbers, year-on-year rate is decreasing just as steadily), more than doubling every 40 years;\n",
    "- most key crops demonstrated similar steady yield growth shortly upset by the 90s, ending at 114-144% improvement from 1960 values;\n",
    "- cassava yields started improving at similar rates only from late 90s;\n",
    "- maize followed general trend until 1984, then setting on a much steeper upwards trend that lasts till now, ending the period with 242% growth.\n",
    "\n",
    "Assuming that humanity can sustain current yield growth rates, given current population growth rates they might not be sufficient without increasing production in other ways and will start to lag behind, albeit rather slowly.\n",
    "\n",
    "Extensive options to approach the issue:\n",
    "- increasing farmable area;\n",
    "- restricting global population growth (hopefully not the Malthusian way).\n",
    "\n",
    "Intensive options:\n",
    "- eliminating yield difference through relocation, i.e. letting countries with best climate/tech grow relevant crops and trade for it. Likely unfeasible in current global economic structure, brings up national food security issues, and is generally utopian. Besides, results from previous chapter suggest that super-yields are achieved by small countries rather than industrial giants that have the areas to accept such relocation;\n",
    "- eliminating yield difference by removing technology/soil differences through heavy investments. This will, however, make production less cost-efficient (and energy-efficient);\n",
    "- re-allocating some farmable area from technical crops or some less efficient crops. For instance, biofuel is a candidate for debate given other available green energy sources;\n",
    "- using artificial agricultural environments on an industrial scale (hydroponic skyscrapers). This also will make production much less cost-efficient;\n",
    "- experimenting with ocean farms."
   ]
  },
  {
   "cell_type": "code",
   "execution_count": 62,
   "id": "c9958bd0",
   "metadata": {},
   "outputs": [
    {
     "data": {
      "text/html": [
       "<div>\n",
       "<style scoped>\n",
       "    .dataframe tbody tr th:only-of-type {\n",
       "        vertical-align: middle;\n",
       "    }\n",
       "\n",
       "    .dataframe tbody tr th {\n",
       "        vertical-align: top;\n",
       "    }\n",
       "\n",
       "    .dataframe thead th {\n",
       "        text-align: right;\n",
       "    }\n",
       "</style>\n",
       "<table border=\"1\" class=\"dataframe\">\n",
       "  <thead>\n",
       "    <tr style=\"text-align: right;\">\n",
       "      <th></th>\n",
       "      <th>Value</th>\n",
       "    </tr>\n",
       "    <tr>\n",
       "      <th>Year</th>\n",
       "      <th></th>\n",
       "    </tr>\n",
       "  </thead>\n",
       "  <tbody>\n",
       "    <tr>\n",
       "      <th>1961</th>\n",
       "      <td>1.000000</td>\n",
       "    </tr>\n",
       "    <tr>\n",
       "      <th>1962</th>\n",
       "      <td>0.990733</td>\n",
       "    </tr>\n",
       "    <tr>\n",
       "      <th>1963</th>\n",
       "      <td>1.035978</td>\n",
       "    </tr>\n",
       "    <tr>\n",
       "      <th>1964</th>\n",
       "      <td>1.048362</td>\n",
       "    </tr>\n",
       "    <tr>\n",
       "      <th>1965</th>\n",
       "      <td>0.990430</td>\n",
       "    </tr>\n",
       "  </tbody>\n",
       "</table>\n",
       "</div>"
      ],
      "text/plain": [
       "         Value\n",
       "Year          \n",
       "1961  1.000000\n",
       "1962  0.990733\n",
       "1963  1.035978\n",
       "1964  1.048362\n",
       "1965  0.990430"
      ]
     },
     "execution_count": 62,
     "metadata": {},
     "output_type": "execute_result"
    }
   ],
   "source": [
    "#calculating y-o-y mean yield growth for primary crops, as ratio to previous year, in preparation for part VI\n",
    "\n",
    "#unlike above, using total world data, and not average of country yields\n",
    "\n",
    "#yield changes from different crops are averaged; using weighted (by calories per ha average as of now?) means could\n",
    "#get more precision\n",
    "\n",
    "temp = crop_world[(crop_world['Item'].isin(top_7_list))\n",
    "                             & (crop_world['Element'] == 'Yield')].drop(columns = ['Area','Element','Unit']).copy()\n",
    "temp = temp.groupby('Year').mean()\n",
    "\n",
    "crop7_data_world = temp.copy()\n",
    "\n",
    "for i in range(len(temp)-1):\n",
    "    crop7_data_world.iloc[i+1] = temp.iloc[i+1]/temp.iloc[i]\n",
    "crop7_data_world.iloc[0] = 1\n",
    "    \n",
    "crop7_data_world.head()"
   ]
  },
  {
   "cell_type": "code",
   "execution_count": 63,
   "id": "2e90c594",
   "metadata": {},
   "outputs": [
    {
     "data": {
      "image/png": "[encoded data removed]",
      "text/plain": [
       "<Figure size 432x288 with 1 Axes>"
      ]
     },
     "metadata": {},
     "output_type": "display_data"
    }
   ],
   "source": [
    "data = crop_world[crop_world['Element'] == 'Area harvested'].drop(columns = ['Area','Element','Unit']).copy()\n",
    "data = data.groupby('Year').sum()\n",
    "\n",
    "data.plot(label = None)\n",
    "plt.title('Agriculture land, world total', size = 20, y = 1.1)\n",
    "\n",
    "plt.ylim(bottom = 0.88*10**9)\n",
    "plt.xlabel('')\n",
    "plt.ylabel('Area, bln ha')\n",
    "plt.legend('')\n",
    "\n",
    "plt.show()"
   ]
  },
  {
   "cell_type": "markdown",
   "id": "54105c56",
   "metadata": {},
   "source": [
    "Despite rather promising yield growths we've seen, more and more areas have been used in agriculture over the years, totalling +47% over the time period, which already speaks in favor of the project hypothesis."
   ]
  },
  {
   "cell_type": "code",
   "execution_count": 64,
   "id": "0f0120fe",
   "metadata": {},
   "outputs": [
    {
     "data": {
      "text/html": [
       "<div>\n",
       "<style scoped>\n",
       "    .dataframe tbody tr th:only-of-type {\n",
       "        vertical-align: middle;\n",
       "    }\n",
       "\n",
       "    .dataframe tbody tr th {\n",
       "        vertical-align: top;\n",
       "    }\n",
       "\n",
       "    .dataframe thead th {\n",
       "        text-align: right;\n",
       "    }\n",
       "</style>\n",
       "<table border=\"1\" class=\"dataframe\">\n",
       "  <thead>\n",
       "    <tr style=\"text-align: right;\">\n",
       "      <th></th>\n",
       "      <th>Value</th>\n",
       "    </tr>\n",
       "  </thead>\n",
       "  <tbody>\n",
       "    <tr>\n",
       "      <th>1961.0</th>\n",
       "      <td>1.000000</td>\n",
       "    </tr>\n",
       "    <tr>\n",
       "      <th>1962.0</th>\n",
       "      <td>1.017243</td>\n",
       "    </tr>\n",
       "    <tr>\n",
       "      <th>1963.0</th>\n",
       "      <td>1.020833</td>\n",
       "    </tr>\n",
       "    <tr>\n",
       "      <th>1964.0</th>\n",
       "      <td>1.020532</td>\n",
       "    </tr>\n",
       "    <tr>\n",
       "      <th>1965.0</th>\n",
       "      <td>1.020552</td>\n",
       "    </tr>\n",
       "  </tbody>\n",
       "</table>\n",
       "</div>"
      ],
      "text/plain": [
       "           Value\n",
       "1961.0  1.000000\n",
       "1962.0  1.017243\n",
       "1963.0  1.020833\n",
       "1964.0  1.020532\n",
       "1965.0  1.020552"
      ]
     },
     "execution_count": 64,
     "metadata": {},
     "output_type": "execute_result"
    }
   ],
   "source": [
    "#transforming global population data to the same y-o-y format for part VI\n",
    "\n",
    "for i in range(len(pop_data_world)-1):\n",
    "    pop_data_world.iloc[i+1] = (pop_data_world.iloc[i+1]/100)+1\n",
    "temp = pop_data_world.copy()\n",
    "for i in range(len(pop_data_world)-1):\n",
    "    pop_data_world.iloc[i+1] = temp.iloc[i+1]/temp.iloc[i]\n",
    "\n",
    "pop_data_world.iloc[1] = 1\n",
    "pop_data_world = pop_data_world.iloc[1:61].rename(columns = {259:'Value'})\n",
    "    \n",
    "pop_data_world.head()"
   ]
  },
  {
   "cell_type": "markdown",
   "id": "80b5be7b",
   "metadata": {},
   "source": [
    "# VI. Hypothesis testing"
   ]
  },
  {
   "cell_type": "markdown",
   "id": "ced0415e",
   "metadata": {},
   "source": [
    "As a finishing touch for the purpose of this project, hypothesis on expansiveness of the agricultural industry will be tested, namely whether farmable areas grow at a higher pace than would be required to compensate for the difference between population growth and yield growth.\n",
    "\n",
    "Expected result should be clear by now through eyeballing the data, as demonstrated on a graph below."
   ]
  },
  {
   "cell_type": "code",
   "execution_count": 65,
   "id": "09951122",
   "metadata": {},
   "outputs": [
    {
     "data": {
      "image/png": "[encoded data removed]",
      "text/plain": [
       "<Figure size 1080x720 with 1 Axes>"
      ]
     },
     "metadata": {},
     "output_type": "display_data"
    }
   ],
   "source": [
    "data1 = data.copy() #data is a temporary series (with area per year) from the previous graph that can be reused\n",
    "base = data1.iloc[0]\n",
    "for i in range(len(data1)-1):\n",
    "    data1.iloc[i+1] = base*(crop7_data_world.iloc[i+1]/pop_data_world.iloc[i+1,0]) #note to self: population df required a second positional index, not identical in properties somehow\n",
    "\n",
    "plt.figure(figsize = [15,10])\n",
    "    \n",
    "plt.plot(data1, label = 'We could be here...', color = 'blue')\n",
    "plt.plot(data, label = '...but we are here.', color = 'red')\n",
    "\n",
    "\n",
    "plt.ylim(bottom = 0.85*10**9)\n",
    "plt.xlabel('')\n",
    "plt.ylabel('Area, bln ha')\n",
    "plt.legend(prop={'size': 25}, loc = 'upper center')\n",
    "\n",
    "plt.show()"
   ]
  },
  {
   "cell_type": "markdown",
   "id": "0650e877",
   "metadata": {},
   "source": [
    "Note to self: do NOT plot multiple graphs on a single plot via a method.\n",
    "\n",
    "Blue line on the graph demonstrates necessary seeded areas to maintain 1961 levels of production per capita given population growth rate and average yield growth of the 7 primary crops (as a proxy for overall crop yields)."
   ]
  },
  {
   "cell_type": "markdown",
   "id": "a530d571",
   "metadata": {},
   "source": [
    "To test the hypothesis via statistic means, t-test and Granger causality will be performed. It is worth noting that while sufficient to get the general idea on significantly different series, none of it is statistically perfect:\n",
    "- number of observations (60 annual datapoints) is fairly low;\n",
    "- t-test ignores the timeline component;\n",
    "- average yields of top crops are used instead of global yields on the assumptions that rest of the crops would be niche quantity-wise, or have little to do with feeding humanity (technical and lifestyle crops, chattel feed to some extent);\n",
    "- Granger test would generally be more useful within VAR, rather than as a standalone;\n",
    "- lag value for Granger was set blindly;\n",
    "- top crop yields are averaged without applying weights. Selection of weights and top crops would be better done with some domain knowledge."
   ]
  },
  {
   "cell_type": "markdown",
   "id": "400a321d",
   "metadata": {},
   "source": [
    "Series plotted above, namely historic values of area under crops (data), and theoretic values of necessary areas that were calculated based on the difference in top crop yields and population growth over time (data1).\n",
    "\n",
    "Null hypothesis for t-test: difference in data and data1 series means is 0.\n",
    "\n",
    "Test codeblock courtesy of Dr. Jason Brownlee and his [helpful hints](https://machinelearningmastery.com/statistical-hypothesis-tests-in-python-cheat-sheet/)."
   ]
  },
  {
   "cell_type": "code",
   "execution_count": 66,
   "id": "ec047c96",
   "metadata": {},
   "outputs": [
    {
     "name": "stdout",
     "output_type": "stream",
     "text": [
      "stat=12.308, p=0.000\n",
      "Probably different distributions\n"
     ]
    }
   ],
   "source": [
    "from scipy.stats import ttest_ind\n",
    "stat, p = ttest_ind(data, data1)\n",
    "print('stat=%.3f, p=%.3f' % (stat, p))\n",
    "if p > 0.05:\n",
    "    print('Probably the same distribution')\n",
    "else:\n",
    "    print('Probably different distributions')"
   ]
  },
  {
   "cell_type": "markdown",
   "id": "01596e09",
   "metadata": {},
   "source": [
    "Null was successfully regected, i.e. series means appear to be substantially different.\n",
    "\n",
    "Granger test requires a reversed null: lagged values in the first series do not explain the fluctuations in the second. Below the test is run in both directions."
   ]
  },
  {
   "cell_type": "code",
   "execution_count": 67,
   "id": "beade668",
   "metadata": {},
   "outputs": [
    {
     "name": "stdout",
     "output_type": "stream",
     "text": [
      "\n",
      "Granger Causality\n",
      "number of lags (no zero) 5\n",
      "ssr based F test:         F=1.0559  , p=0.3976  , df_denom=44, df_num=5\n",
      "ssr based chi2 test:   chi2=6.5996  , p=0.2522  , df=5\n",
      "likelihood ratio test: chi2=6.2327  , p=0.2842  , df=5\n",
      "parameter F test:         F=1.0559  , p=0.3976  , df_denom=44, df_num=5\n"
     ]
    },
    {
     "data": {
      "text/plain": [
       "{5: ({'ssr_ftest': (1.055935646381526, 0.39756895080008636, 44.0, 5),\n",
       "   'ssr_chi2test': (6.5995977898845375, 0.2521616018209654, 5),\n",
       "   'lrtest': (6.232718574538467, 0.2842285204444817, 5),\n",
       "   'params_ftest': (1.055935646381359, 0.3975689508001777, 44.0, 5.0)},\n",
       "  [<statsmodels.regression.linear_model.RegressionResultsWrapper at 0x2dd3bb15700>,\n",
       "   <statsmodels.regression.linear_model.RegressionResultsWrapper at 0x2dd3bb155b0>,\n",
       "   array([[0., 0., 0., 0., 0., 1., 0., 0., 0., 0., 0.],\n",
       "          [0., 0., 0., 0., 0., 0., 1., 0., 0., 0., 0.],\n",
       "          [0., 0., 0., 0., 0., 0., 0., 1., 0., 0., 0.],\n",
       "          [0., 0., 0., 0., 0., 0., 0., 0., 1., 0., 0.],\n",
       "          [0., 0., 0., 0., 0., 0., 0., 0., 0., 1., 0.]])])}"
      ]
     },
     "execution_count": 67,
     "metadata": {},
     "output_type": "execute_result"
    }
   ],
   "source": [
    "data_gr = data.copy().rename(columns = {'Value':'Value historic'})\n",
    "data_gr['Value theoretic'] = data1['Value']\n",
    "from statsmodels.tsa.stattools import grangercausalitytests as grgr\n",
    "\n",
    "grgr(data_gr[['Value theoretic', 'Value historic']], maxlag=[5])"
   ]
  },
  {
   "cell_type": "code",
   "execution_count": 68,
   "id": "ad6cb688",
   "metadata": {},
   "outputs": [
    {
     "name": "stdout",
     "output_type": "stream",
     "text": [
      "\n",
      "Granger Causality\n",
      "number of lags (no zero) 5\n",
      "ssr based F test:         F=0.2953  , p=0.9129  , df_denom=44, df_num=5\n",
      "ssr based chi2 test:   chi2=1.8457  , p=0.8701  , df=5\n",
      "likelihood ratio test: chi2=1.8154  , p=0.8741  , df=5\n",
      "parameter F test:         F=0.2953  , p=0.9129  , df_denom=44, df_num=5\n"
     ]
    },
    {
     "data": {
      "text/plain": [
       "{5: ({'ssr_ftest': (0.29531215405710964, 0.9129467578300924, 44.0, 5),\n",
       "   'ssr_chi2test': (1.8457009628569352, 0.8700566538362619, 5),\n",
       "   'lrtest': (1.8154076269208872, 0.874051538823226, 5),\n",
       "   'params_ftest': (0.2953121540571277, 0.9129467578300816, 44.0, 5.0)},\n",
       "  [<statsmodels.regression.linear_model.RegressionResultsWrapper at 0x2dd39ee7400>,\n",
       "   <statsmodels.regression.linear_model.RegressionResultsWrapper at 0x2dd39ee7d60>,\n",
       "   array([[0., 0., 0., 0., 0., 1., 0., 0., 0., 0., 0.],\n",
       "          [0., 0., 0., 0., 0., 0., 1., 0., 0., 0., 0.],\n",
       "          [0., 0., 0., 0., 0., 0., 0., 1., 0., 0., 0.],\n",
       "          [0., 0., 0., 0., 0., 0., 0., 0., 1., 0., 0.],\n",
       "          [0., 0., 0., 0., 0., 0., 0., 0., 0., 1., 0.]])])}"
      ]
     },
     "execution_count": 68,
     "metadata": {},
     "output_type": "execute_result"
    }
   ],
   "source": [
    "data_gr = data.copy().rename(columns = {'Value':'Value historic'})\n",
    "data_gr['Value theoretic'] = data1['Value']\n",
    "from statsmodels.tsa.stattools import grangercausalitytests as grgr\n",
    "\n",
    "grgr(data_gr[['Value historic', 'Value theoretic']], maxlag=[5])"
   ]
  },
  {
   "cell_type": "markdown",
   "id": "c8f7f1a1",
   "metadata": {},
   "source": [
    "In both cases sufficient evidence to reject the null has not been found. Spikes in theoretic data may have borne some occasional resemblance to spikes in historic data (not the other way around), yet according to test results neither of the two series may be used to forecast the other."
   ]
  },
  {
   "cell_type": "markdown",
   "id": "229812da",
   "metadata": {},
   "source": [
    "# VII. Summary and concluding remarks"
   ]
  },
  {
   "cell_type": "markdown",
   "id": "30087247",
   "metadata": {},
   "source": [
    "Dataset contains information, per country and per year over the last 60 years, on:\n",
    "- yield, production and seeded area per crop;\n",
    "- headcount per type of livestock;\n",
    "- population.\n",
    "\n",
    "Noteable lacking data includes:\n",
    "- grazing area per type of livestock;\n",
    "- calorie per unit weight/count 'value map' for crops and livestock;\n",
    "- total area and forest area per country;\n",
    "- uniform naming and grouping of countries (country data table uses a separate naming/grouping convention)."
   ]
  },
  {
   "cell_type": "markdown",
   "id": "091c1a16",
   "metadata": {},
   "source": [
    "Exploring the dataset revealed that half the world's agricultural areas are seeded by wheat, maize, rice and soybeans, other crops lagging noticeably behind.\n",
    "\n",
    "7 most commonly used crops were picked to analyse yields, excluding technical/'lifestyle'/chattel feed crops.\n",
    "\n",
    "Distribution of yields between coutries demonstrates high variability, with a variance coefficient at ~60%. Top agricultural producing countries demonstrated far less variability between themselves, demonstrating roughly average yields, below average for cassava and barley, above average for soybeans.\n",
    "\n",
    "Average yields for the 7 crops grew roughly at the same rate as global population (+155% over 60 years). Most crop yields lagged slightly behind population growth rates, cassava achieved similar yield growth rates only from late 90s, while maize demonstrated tremendous improvements over the last several decades.\n",
    "\n",
    "Available data does not contradict the supposition that humanity could sustain the growing population through purely intensive improvements to the agricultural industry, without expansions of farmable areas. Moreover, high yield variability and observed distribution of seeded areas suggest several options at increasing production if need be by optimizing allocation of area to crops and/or sacrificing energy efficiency for higher yields (a purely hypothetical scenario of seeding all the world's agricultural areas with potatoes at max observed yield allows to feed 55 billion people, which at the very least suggests there's some leeway for optimization).\n",
    "\n",
    "However, historic data demonstrates a 47% increase a farmable area over the time period, up to current figure of 2.68% of global land area, despite yields seemingly able to keep up with population growth."
   ]
  },
  {
   "cell_type": "markdown",
   "id": "4da588c7",
   "metadata": {},
   "source": [
    "Further data exploration, requiring additional data, could be continued along the following lines:\n",
    "1. Possible changes to seeded area allocations to optimize efficiency (in calories per unit of land per year).\n",
    "2. Comparing meat vs plant food efficiency and exploring historic trends for husbandry.\n",
    "3. Exploring food security issue: determining ability of countries, as well as clusters of interconnected countries, to provide for own population, and determining clustering of net-producing and net-importing countries.\n",
    "4. Looking at deforestation trends and determining the extent to which they may be driven by agricultural needs."
   ]
  },
  {
   "cell_type": "code",
   "execution_count": null,
   "id": "28e3aefe",
   "metadata": {},
   "outputs": [],
   "source": []
  },
  {
   "cell_type": "code",
   "execution_count": null,
   "id": "5f67a763",
   "metadata": {},
   "outputs": [],
   "source": []
  },
  {
   "cell_type": "code",
   "execution_count": null,
   "id": "9ad5882e",
   "metadata": {},
   "outputs": [],
   "source": []
  },
  {
   "cell_type": "code",
   "execution_count": null,
   "id": "79d3e05c",
   "metadata": {},
   "outputs": [],
   "source": []
  }
 ],
 "metadata": {
  "kernelspec": {
   "display_name": "Python 3 (ipykernel)",
   "language": "python",
   "name": "python3"
  },
  "language_info": {
   "codemirror_mode": {
    "name": "ipython",
    "version": 3
   },
   "file_extension": ".py",
   "mimetype": "text/x-python",
   "name": "python",
   "nbconvert_exporter": "python",
   "pygments_lexer": "ipython3",
   "version": "3.9.12"
  }
 },
 "nbformat": 4,
 "nbformat_minor": 5
}
